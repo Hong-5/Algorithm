{
 "cells": [
  {
   "cell_type": "markdown",
   "metadata": {},
   "source": [
    "# Level 1"
   ]
  },
  {
   "cell_type": "markdown",
   "metadata": {},
   "source": [
    "##### 2016년"
   ]
  },
  {
   "cell_type": "code",
   "execution_count": 1,
   "metadata": {},
   "outputs": [],
   "source": [
    "import datetime\n",
    "def solution(a, b):\n",
    "    \n",
    "    day_num = datetime.date(2016,a,b).weekday()\n",
    "    \n",
    "    if day_num == 0:\n",
    "        return 'MON'\n",
    "    elif day_num == 1:\n",
    "        return 'TUE'\n",
    "    elif day_num == 2:\n",
    "        return 'WED'\n",
    "    elif day_num == 3:\n",
    "        return 'THU'\n",
    "    elif day_num == 4:\n",
    "        return 'FRI'\n",
    "    elif day_num == 5:\n",
    "        return 'SAT'\n",
    "    else:\n",
    "        return 'SUN'"
   ]
  },
  {
   "cell_type": "markdown",
   "metadata": {},
   "source": [
    "##### 최소직사각형"
   ]
  },
  {
   "cell_type": "code",
   "execution_count": 2,
   "metadata": {},
   "outputs": [],
   "source": [
    "def solution(sizes):\n",
    "    answer = 0\n",
    "    width_list = []\n",
    "    length_list = []\n",
    "    \n",
    "    for rec in sizes:\n",
    "        width_list.append(min(rec))\n",
    "        length_list.append(max(rec))\n",
    "    \n",
    "    return max(width_list) * max(length_list)"
   ]
  },
  {
   "cell_type": "markdown",
   "metadata": {},
   "source": [
    "##### 3진법 뒤집기"
   ]
  },
  {
   "cell_type": "code",
   "execution_count": 3,
   "metadata": {},
   "outputs": [],
   "source": [
    "def solution(n):\n",
    "    answer = ''\n",
    "    while n > 0:\n",
    "        n, re = divmod(n,3)\n",
    "        answer += str(re)\n",
    "        \n",
    "    return int(answer,3)"
   ]
  },
  {
   "cell_type": "markdown",
   "metadata": {},
   "source": [
    "##### [1차] 비밀지도\n"
   ]
  },
  {
   "cell_type": "code",
   "execution_count": 4,
   "metadata": {},
   "outputs": [],
   "source": [
    "def solution(n, arr1, arr2):\n",
    "    answer = []\n",
    "    for i in range(n):\n",
    "        temp = ''\n",
    "        first_list = format(arr1[i], 'b').zfill(n)\n",
    "        second_list = format(arr2[i], 'b').zfill(n)\n",
    "        \n",
    "        for j in range(n):\n",
    "            if first_list[j] == '0' and second_list[j] == '0':\n",
    "                temp += ' '\n",
    "            else:\n",
    "                temp += '#'\n",
    "                \n",
    "        answer.append(temp)\n",
    "    \n",
    "    return answer"
   ]
  },
  {
   "cell_type": "markdown",
   "metadata": {},
   "source": [
    "##### 문자열 내 마음대로 정렬하기"
   ]
  },
  {
   "cell_type": "code",
   "execution_count": 5,
   "metadata": {},
   "outputs": [],
   "source": [
    "def solution(strings, n):\n",
    "    \n",
    "    return sorted(strings, key=lambda x:(x[n],x))"
   ]
  }
 ],
 "metadata": {
  "kernelspec": {
   "display_name": "Python 3",
   "language": "python",
   "name": "python3"
  },
  "language_info": {
   "codemirror_mode": {
    "name": "ipython",
    "version": 3
   },
   "file_extension": ".py",
   "mimetype": "text/x-python",
   "name": "python",
   "nbconvert_exporter": "python",
   "pygments_lexer": "ipython3",
   "version": "3.7.9"
  }
 },
 "nbformat": 4,
 "nbformat_minor": 4
}
