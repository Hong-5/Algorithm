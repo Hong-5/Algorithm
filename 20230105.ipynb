{
 "cells": [
  {
   "cell_type": "markdown",
   "metadata": {},
   "source": [
    "# LEVEL 1"
   ]
  },
  {
   "cell_type": "markdown",
   "metadata": {},
   "source": [
    "##### 소수 찾기\n",
    "\n",
    "- 1부터 입력받은 숫자 n 사이에 있는 소수의 개수를 반환하는 함수, solution을 만들어 보세요. 소수는 1과 자기 자신으로만 나누어지는 수를 의미합니다.\n",
    "(1은 소수가 아닙니다.)\n",
    "\n",
    "<u>에라토스테네스의 체 !!</u>"
   ]
  },
  {
   "cell_type": "code",
   "execution_count": 5,
   "metadata": {},
   "outputs": [],
   "source": [
    "def solution(n):\n",
    "    sieve = [False, False] + [True] * (n-1)\n",
    "    m = int(n ** 0.5)\n",
    "\n",
    "    for i in range(2, m+1):\n",
    "        if sieve[i]==True:\n",
    "            for j in range(2*i, n+1, i):\n",
    "                sieve[j] = False\n",
    "\n",
    "    return sum(sieve)"
   ]
  },
  {
   "cell_type": "code",
   "execution_count": 6,
   "metadata": {},
   "outputs": [
    {
     "data": {
      "text/plain": [
       "4"
      ]
     },
     "execution_count": 6,
     "metadata": {},
     "output_type": "execute_result"
    }
   ],
   "source": [
    "n = 10\n",
    "sieve = [False, False] + [True] * (n-1)\n",
    "m = int(n ** 0.5)\n",
    "\n",
    "for i in range(2, m+1):\n",
    "    if sieve[i]==True:\n",
    "        for j in range(2*i, n+1, i):\n",
    "            sieve[j] = False\n",
    "\n",
    "sum(sieve)"
   ]
  },
  {
   "cell_type": "markdown",
   "metadata": {},
   "source": [
    "### 소수 만들기\n",
    "\n",
    "- 주어진 숫자 중 3개의 수를 더했을 때 소수가 되는 경우의 개수를 구하려고 합니다. 숫자들이 들어있는 배열 nums가 매개변수로 주어질 때, nums에 있는 숫자들 중 서로 다른 3개를 골라 더했을 때 소수가 되는 경우의 개수를 return 하도록 solution 함수를 완성해주세요."
   ]
  },
  {
   "cell_type": "code",
   "execution_count": null,
   "metadata": {},
   "outputs": [],
   "source": [
    "from itertools import combinations\n",
    "def solution(nums):\n",
    "    answer = 0\n",
    "    a = combinations(nums,3)\n",
    "    for k in a:\n",
    "        cnt = 0\n",
    "        sum_k = sum(k)\n",
    "        for i in range(1,sum_k+1):\n",
    "            if sum_k % i == 0:\n",
    "                cnt += 1\n",
    "        if cnt == 2:\n",
    "            answer += 1\n",
    "    return answer"
   ]
  },
  {
   "cell_type": "markdown",
   "metadata": {},
   "source": [
    "### [1차] 다트 게임\n",
    "\n",
    "카카오톡 게임별의 하반기 신규 서비스로 다트 게임을 출시하기로 했다. 다트 게임은 다트판에 다트를 세 차례 던져 그 점수의 합계로 실력을 겨루는 게임으로, 모두가 간단히 즐길 수 있다.\n",
    "갓 입사한 무지는 코딩 실력을 인정받아 게임의 핵심 부분인 점수 계산 로직을 맡게 되었다. 다트 게임의 점수 계산 로직은 아래와 같다.\n",
    "\n",
    "다트 게임은 총 3번의 기회로 구성된다.\n",
    "각 기회마다 얻을 수 있는 점수는 0점에서 10점까지이다.\n",
    "점수와 함께 Single(S), Double(D), Triple(T) 영역이 존재하고 각 영역 당첨 시 점수에서 1제곱, 2제곱, 3제곱 (점수1 , 점수2 , 점수3 )으로 계산된다.\n",
    "옵션으로 스타상(*) , 아차상(#)이 존재하며 스타상(*) 당첨 시 해당 점수와 바로 전에 얻은 점수를 각 2배로 만든다. 아차상(#) 당첨 시 해당 점수는 마이너스된다.\n",
    "스타상(*)은 첫 번째 기회에서도 나올 수 있다. 이 경우 첫 번째 스타상(*)의 점수만 2배가 된다. (예제 4번 참고)\n",
    "스타상(*)의 효과는 다른 스타상(*)의 효과와 중첩될 수 있다. 이 경우 중첩된 스타상(*) 점수는 4배가 된다. (예제 4번 참고)\n",
    "스타상(*)의 효과는 아차상(#)의 효과와 중첩될 수 있다. 이 경우 중첩된 아차상(#)의 점수는 -2배가 된다. (예제 5번 참고)\n",
    "Single(S), Double(D), Triple(T)은 점수마다 하나씩 존재한다.\n",
    "스타상(*), 아차상(#)은 점수마다 둘 중 하나만 존재할 수 있으며, 존재하지 않을 수도 있다.\n",
    "0~10의 정수와 문자 S, D, T, *, #로 구성된 문자열이 입력될 시 총점수를 반환하는 함수를 작성하라."
   ]
  },
  {
   "cell_type": "code",
   "execution_count": 73,
   "metadata": {},
   "outputs": [],
   "source": [
    "def calcul(dart):\n",
    "    if dart[-1] == 'S':\n",
    "        return int(dart[:-1])\n",
    "    elif dart[-1] == 'D':\n",
    "        return int(dart[:-1])**2\n",
    "    else:\n",
    "        return int(dart[:-1])**3\n",
    "\n",
    "def solution(dartResult):\n",
    "    block_stack = \"\"\n",
    "    score_stack = []\n",
    "    option_list = []\n",
    "    \n",
    "    for i in range(len(dartResult)):\n",
    "        if dartResult[i].isdigit():\n",
    "            block_stack += dartResult[i]\n",
    "        elif dartResult[i].isalpha():\n",
    "            block_stack += dartResult[i]\n",
    "            score_stack.append(calcul(block_stack))\n",
    "            block_stack = \"\"\n",
    "            try:\n",
    "                if dartResult[i+1].isdigit():\n",
    "                    option_list.append('')\n",
    "                else:\n",
    "                    option_list.append(dartResult[i+1])\n",
    "            except:\n",
    "                option_list.append('')\n",
    "\n",
    "    for i in range(len(option_list)):\n",
    "        if option_list[i] == \"*\":\n",
    "            if i == 0:\n",
    "                score_stack[i] = score_stack[i]*2\n",
    "            else:\n",
    "                score_stack[i-1] = score_stack[i-1]*2\n",
    "                score_stack[i] = score_stack[i]*2\n",
    "        elif option_list[i] == \"#\":\n",
    "            score_stack[i] = score_stack[i]*(-1)\n",
    "        else:\n",
    "            pass\n",
    "        \n",
    "\n",
    "    return sum(score_stack)"
   ]
  }
 ],
 "metadata": {
  "kernelspec": {
   "display_name": "Python 3.9.0 64-bit",
   "language": "python",
   "name": "python3"
  },
  "language_info": {
   "codemirror_mode": {
    "name": "ipython",
    "version": 3
   },
   "file_extension": ".py",
   "mimetype": "text/x-python",
   "name": "python",
   "nbconvert_exporter": "python",
   "pygments_lexer": "ipython3",
   "version": "3.9.0"
  },
  "orig_nbformat": 4,
  "vscode": {
   "interpreter": {
    "hash": "aee8b7b246df8f9039afb4144a1f6fd8d2ca17a180786b69acc140d282b71a49"
   }
  }
 },
 "nbformat": 4,
 "nbformat_minor": 2
}
