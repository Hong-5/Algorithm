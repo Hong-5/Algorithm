{
 "cells": [
  {
   "cell_type": "markdown",
   "metadata": {},
   "source": [
    "## 2023/01/03"
   ]
  },
  {
   "cell_type": "markdown",
   "metadata": {},
   "source": [
    "### Q. 숫자 문자열과 영단어"
   ]
  },
  {
   "cell_type": "markdown",
   "metadata": {},
   "source": [
    "- 네오와 프로도가 숫자놀이를 하고 있습니다. 네오가 프로도에게 숫자를 건넬 때 일부 자릿수를 영단어로 바꾼 카드를 건네주면 프로도는 원래 숫자를 찾는 게임입니다.\n",
    "\n",
    "- 다음은 숫자의 일부 자릿수를 영단어로 바꾸는 예시입니다.\n",
    "\n",
    "- 1478 → \"one4seveneight\"\n",
    "- 234567 → \"23four5six7\"\n",
    "- 10203 → \"1zerotwozero3\"\n",
    "- 이렇게 숫자의 일부 자릿수가 영단어로 바뀌어졌거나, 혹은 바뀌지 않고 그대로인 문자열 s가 매개변수로 주어집니다. s가 의미하는 원래 숫자를 return 하도록 solution 함수를 완성해주세요"
   ]
  },
  {
   "cell_type": "code",
   "execution_count": null,
   "metadata": {},
   "outputs": [],
   "source": [
    "def solution(s):\n",
    "    \n",
    "    s = s.replace('zero', '0')\n",
    "    s = s.replace('one', '1')\n",
    "    s = s.replace('two', '2')\n",
    "    s = s.replace('three', '3')\n",
    "    s = s.replace('four', '4')\n",
    "    s = s.replace('five', '5')\n",
    "    s = s.replace('six', '6')\n",
    "    s = s.replace('seven', '7')\n",
    "    s = s.replace('eight', '8')\n",
    "    s = s.replace('nine', '9')\n",
    "    \n",
    "    return int(s)"
   ]
  },
  {
   "cell_type": "code",
   "execution_count": null,
   "metadata": {},
   "outputs": [],
   "source": [
    "num_dic = {\"zero\":\"0\", \"one\":\"1\", \"two\":\"2\", \"three\":\"3\", \"four\":\"4\", \"five\":\"5\", \"six\":\"6\", \"seven\":\"7\", \"eight\":\"8\", \"nine\":\"9\"}\n",
    "\n",
    "def solution(s):\n",
    "    answer = s\n",
    "    for key, value in num_dic.items():\n",
    "        answer = answer.replace(key, value)\n",
    "    return int(answer)"
   ]
  },
  {
   "cell_type": "markdown",
   "metadata": {},
   "source": [
    "### Q. 두 개 뽑아서 더하기"
   ]
  },
  {
   "cell_type": "markdown",
   "metadata": {},
   "source": [
    "- 정수 배열 numbers가 주어집니다. numbers에서 서로 다른 인덱스에 있는 두 개의 수를 뽑아 더해서 만들 수 있는 모든 수를 배열에 오름차순으로 담아 return 하도록 solution 함수를 완성해주세요."
   ]
  },
  {
   "cell_type": "code",
   "execution_count": null,
   "metadata": {},
   "outputs": [],
   "source": [
    "from itertools import combinations\n",
    "\n",
    "def solution(numbers):\n",
    "    \n",
    "    temp_list = sorted(combinations(numbers,2))\n",
    "    \n",
    "    answer = [sum(i) for i in temp_list]\n",
    "    \n",
    "    return sorted(list(set(answer)))"
   ]
  },
  {
   "cell_type": "markdown",
   "metadata": {},
   "source": [
    "### Q. 폰켓몬\n",
    "\n",
    "- 당신은 최대한 다양한 종류의 폰켓몬을 가지길 원하기 때문에, 최대한 많은 종류의 폰켓몬을 포함해서 N/2마리를 선택하려 합니다. N마리 폰켓몬의 종류 번호가 담긴 배열 nums가 매개변수로 주어질 때, N/2마리의 폰켓몬을 선택하는 방법 중, 가장 많은 종류의 폰켓몬을 선택하는 방법을 찾아, 그때의 폰켓몬 종류 번호의 개수를 return 하도록 solution 함수를 완성해주세요."
   ]
  },
  {
   "cell_type": "code",
   "execution_count": null,
   "metadata": {},
   "outputs": [],
   "source": [
    "def solution(nums):\n",
    "    answer = 0\n",
    "    if len(set(nums)) > int(len(nums)/2):\n",
    "        answer = int(len(nums)/2)\n",
    "    else:\n",
    "        answer = len(set(nums))\n",
    "    \n",
    "    return answer"
   ]
  },
  {
   "cell_type": "markdown",
   "metadata": {},
   "source": [
    "### Q. 모의고사\n",
    "\n",
    "- 수포자는 수학을 포기한 사람의 준말입니다. 수포자 삼인방은 모의고사에 수학 문제를 전부 찍으려 합니다. 수포자는 1번 문제부터 마지막 문제까지 다음과 같이 찍습니다.\n",
    "\n",
    "- 1번 수포자가 찍는 방식: 1, 2, 3, 4, 5, 1, 2, 3, 4, 5, ...\n",
    "- 2번 수포자가 찍는 방식: 2, 1, 2, 3, 2, 4, 2, 5, 2, 1, 2, 3, 2, 4, 2, 5, ...\n",
    "- 3번 수포자가 찍는 방식: 3, 3, 1, 1, 2, 2, 4, 4, 5, 5, 3, 3, 1, 1, 2, 2, 4, 4, 5, 5, ...\n",
    "\n",
    "- 1번 문제부터 마지막 문제까지의 정답이 순서대로 들은 배열 answers가 주어졌을 때, 가장 많은 문제를 맞힌 사람이 누구인지 배열에 담아 return 하도록 solution 함수를 작성해주세요."
   ]
  },
  {
   "cell_type": "code",
   "execution_count": null,
   "metadata": {},
   "outputs": [],
   "source": [
    "import math\n",
    "\n",
    "def solution(answers):\n",
    "    answer = []\n",
    "    stu_1 = [1, 2, 3, 4, 5] * int(math.ceil(len(answers) / 5))\n",
    "    stu_2 = [2, 1, 2, 3, 2, 4, 2, 5] * int(math.ceil(len(answers) / 8))\n",
    "    stu_3 = [3, 3, 1, 1, 2, 2, 4, 4, 5, 5] * int(math.ceil(len(answers) / 10))\n",
    "    \n",
    "    score_list = []\n",
    "    \n",
    "    stu_1_score = 0\n",
    "    stu_2_score = 0\n",
    "    stu_3_score = 0\n",
    "    \n",
    "    for i in range(len(answers)):\n",
    "        if answers[i] == stu_1[i]:\n",
    "            stu_1_score += 1\n",
    "    \n",
    "    for i in range(len(answers)):\n",
    "        if answers[i] == stu_2[i]:\n",
    "            stu_2_score += 1\n",
    "            \n",
    "    for i in range(len(answers)):\n",
    "        if answers[i] == stu_3[i]:\n",
    "            stu_3_score += 1\n",
    "    \n",
    "    \n",
    "    score_list.append(stu_1_score)\n",
    "    score_list.append(stu_2_score)\n",
    "    score_list.append(stu_3_score)\n",
    "    \n",
    "    if score_list[0] == max(score_list):\n",
    "        answer.append(1)\n",
    "\n",
    "    if score_list[1] == max(score_list):\n",
    "        answer.append(2)\n",
    "\n",
    "    if score_list[2] == max(score_list):\n",
    "        answer.append(3)\n",
    "    \n",
    "    return answer"
   ]
  },
  {
   "cell_type": "code",
   "execution_count": null,
   "metadata": {},
   "outputs": [],
   "source": [
    "a = [1, 2, 3, 4, 5]\n",
    "b = [2, 1, 2, 3, 2, 4, 2, 5]\n",
    "c = [3, 3, 1, 1, 2, 2, 4, 4, 5, 5]\n",
    "\n",
    "\n",
    "\n",
    "def solution(answers):\n",
    "    answer = []\n",
    "    aa = [1 for i, val in enumerate(answers) if a[i % 5] == val]\n",
    "    bb = [1 for i, val in enumerate(answers) if b[i % 8] == val]\n",
    "    cc = [1 for i, val in enumerate(answers) if c[i % 10] == val]\n",
    "\n",
    "    x = max([len(aa),len(bb),len(cc)])\n",
    "\n",
    "    if x == len(aa) :\n",
    "        answer.append(1)\n",
    "    if x == len(bb) :\n",
    "        answer.append(2)\n",
    "    if x == len(cc) :\n",
    "        answer.append(3)\n",
    "\n",
    "    sorted(answer)\n",
    "\n",
    "    return answer"
   ]
  },
  {
   "cell_type": "markdown",
   "metadata": {},
   "source": [
    "### Q. 콜라 문제\n",
    "\n",
    "\n",
    "- 문제를 풀던 상빈이는 콜라 문제의 완벽한 해답을 찾았습니다. 상빈이가 푼 방법은 아래 그림과 같습니다. 우선 콜라 빈 병 20병을 가져가서 10병을 받습니다. 받은 10병을 모두 마신 뒤, 가져가서 5병을 받습니다. 5병 중 4병을 모두 마신 뒤 가져가서 2병을 받고, 또 2병을 모두 마신 뒤 가져가서 1병을 받습니다. 받은 1병과 5병을 받았을 때 남은 1병을 모두 마신 뒤 가져가면 1병을 또 받을 수 있습니다. 이 경우 상빈이는 총 10 + 5 + 2 + 1 + 1 = 19병의 콜라를 받을 수 있습니다."
   ]
  },
  {
   "cell_type": "code",
   "execution_count": null,
   "metadata": {},
   "outputs": [],
   "source": [
    "def solution(a, b, n):\n",
    "    answer = 0\n",
    "    \n",
    "    while n >= a:\n",
    "        answer += (n // a) * b  \n",
    "        n = (n//a) * b + (n % a) \n",
    "    \n",
    "    return answer"
   ]
  }
 ],
 "metadata": {
  "kernelspec": {
   "display_name": "Python 3.9.0 64-bit",
   "language": "python",
   "name": "python3"
  },
  "language_info": {
   "name": "python",
   "version": "3.9.0"
  },
  "orig_nbformat": 4,
  "vscode": {
   "interpreter": {
    "hash": "aee8b7b246df8f9039afb4144a1f6fd8d2ca17a180786b69acc140d282b71a49"
   }
  }
 },
 "nbformat": 4,
 "nbformat_minor": 2
}
