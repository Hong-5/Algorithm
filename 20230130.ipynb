{
 "cells": [
  {
   "cell_type": "markdown",
   "metadata": {},
   "source": [
    "##### Q. 타겟 넘버\n",
    "\n",
    "n개의 음이 아닌 정수들이 있습니다. 이 정수들을 순서를 바꾸지 않고 적절히 더하거나 빼서 타겟 넘버를 만들려고 합니다. 예를 들어 [1, 1, 1, 1, 1]로 숫자 3을 만들려면 다음 다섯 방법을 쓸 수 있습니다.\n",
    "\n",
    "- -1+1+1+1+1 = 3\n",
    "- +1-1+1+1+1 = 3\n",
    "- +1+1-1+1+1 = 3\n",
    "- +1+1+1-1+1 = 3\n",
    "- +1+1+1+1-1 = 3\n",
    "사용할 수 있는 숫자가 담긴 배열 numbers, 타겟 넘버 target이 매개변수로 주어질 때 숫자를 적절히 더하고 빼서 타겟 넘버를 만드는 방법의 수를 return 하도록 solution 함수를 작성해주세요."
   ]
  },
  {
   "cell_type": "code",
   "execution_count": 44,
   "metadata": {},
   "outputs": [],
   "source": [
    "from itertools import combinations\n",
    "import numpy as np\n",
    "\n",
    "def solution(numbers, target):\n",
    "    answer = 0\n",
    "    \n",
    "    for num in range(1,len(numbers)):\n",
    "        tmp = np.array([sum(i) for i in list(combinations(numbers , num))])\n",
    "        answer += sum(tmp == (sum(numbers) - target) / 2)\n",
    "    \n",
    "    return int(answer)"
   ]
  },
  {
   "cell_type": "code",
   "execution_count": 45,
   "metadata": {},
   "outputs": [],
   "source": [
    "from itertools import product\n",
    "\n",
    "def solution(numbers, target):\n",
    "    full_list = [(i,-i) for i in numbers]\n",
    "\n",
    "    answer = 0\n",
    "    for i in list(map(sum,list(product(*full_list)))):\n",
    "        if i == target:\n",
    "            answer += 1\n",
    "    return answer"
   ]
  },
  {
   "attachments": {},
   "cell_type": "markdown",
   "metadata": {},
   "source": []
  },
  {
   "cell_type": "code",
   "execution_count": 82,
   "metadata": {},
   "outputs": [],
   "source": [
    "def solution(n, k):\n",
    "\n",
    "    num = \"\"\n",
    "\n",
    "    while n >= k:\n",
    "        num += str(n%k)\n",
    "        n = n // k\n",
    "\n",
    "    num = num + str(n)\n",
    "    num = num[::-1]\n",
    "\n",
    "    result = 0\n",
    "\n",
    "    for each_num in num.split('0'):\n",
    "        try:\n",
    "            cnt = 0\n",
    "            for i in range(1, int(each_num)+1):\n",
    "                if int(each_num) % i == 0:\n",
    "                    cnt += 1\n",
    "            if cnt == 2:\n",
    "                result += 1\n",
    "        except:\n",
    "            pass"
   ]
  },
  {
   "attachments": {},
   "cell_type": "markdown",
   "metadata": {},
   "source": [
    "- 시간초과..."
   ]
  },
  {
   "cell_type": "code",
   "execution_count": 96,
   "metadata": {},
   "outputs": [],
   "source": [
    "def conv(n, k):\n",
    "    s = ''\n",
    "    while n:\n",
    "        s += str(n%k)\n",
    "        n //= k\n",
    "    return s[::-1]\n",
    "\n",
    "# n이 소수인지 판정\n",
    "def isprime(n):\n",
    "    if n <= 1: \n",
    "        return False\n",
    "    i = 2\n",
    "    while i*i <= n:\n",
    "        if n%i == 0: \n",
    "            return False\n",
    "        i += 1\n",
    "    return True\n",
    "    \n",
    "def solution(n, k):\n",
    "    s = conv(n,k)\n",
    "    cnt = 0\n",
    "    for num in s.split('0'):\n",
    "        if not num: \n",
    "            continue # 빈 문자열에 대한 예외처리\n",
    "        if isprime(int(num)): \n",
    "            cnt += 1\n",
    "    return cnt"
   ]
  },
  {
   "cell_type": "code",
   "execution_count": 115,
   "metadata": {},
   "outputs": [],
   "source": [
    "## 소수판별\n",
    "\n",
    "def isprime(x):\n",
    "    if x <= 1:\n",
    "        return False\n",
    "\n",
    "    i = 2\n",
    "    while i*i <= x:\n",
    "        if x % i == 0:\n",
    "            return False\n",
    "        i += 1\n",
    "    return True\n"
   ]
  },
  {
   "cell_type": "code",
   "execution_count": 116,
   "metadata": {},
   "outputs": [
    {
     "data": {
      "text/plain": [
       "[False, False, True, True, False, True, False]"
      ]
     },
     "execution_count": 116,
     "metadata": {},
     "output_type": "execute_result"
    }
   ],
   "source": [
    "# 에라토스테네스의 체\n",
    "# n까지의 소수의 개수\n",
    "import math\n",
    "\n",
    "n = 6\n",
    "tmp_list = [True] * (n+1)\n",
    "\n",
    "tmp_list[0] = False\n",
    "tmp_list[1] = False\n",
    "\n",
    "m = int(math.sqrt(n))\n",
    "\n",
    "for i in range(2,m+1):\n",
    "    if tmp_list[i] == True:\n",
    "        for j in range(2*i, n+1, i):\n",
    "            tmp_list[j] = False\n",
    "\n",
    "tmp_list\n"
   ]
  }
 ],
 "metadata": {
  "kernelspec": {
   "display_name": "base",
   "language": "python",
   "name": "python3"
  },
  "language_info": {
   "codemirror_mode": {
    "name": "ipython",
    "version": 3
   },
   "file_extension": ".py",
   "mimetype": "text/x-python",
   "name": "python",
   "nbconvert_exporter": "python",
   "pygments_lexer": "ipython3",
   "version": "3.7.9"
  },
  "orig_nbformat": 4,
  "vscode": {
   "interpreter": {
    "hash": "af40cdd1006690f4cf995187c855cf85ebfd55e0c8699f83ae7c9965d6b310a1"
   }
  }
 },
 "nbformat": 4,
 "nbformat_minor": 2
}
