{
 "cells": [
  {
   "attachments": {},
   "cell_type": "markdown",
   "metadata": {},
   "source": [
    "# LEVEL 1"
   ]
  },
  {
   "attachments": {},
   "cell_type": "markdown",
   "metadata": {},
   "source": [
    "##### Q. 크레인 인형뽑기 게임"
   ]
  },
  {
   "attachments": {},
   "cell_type": "markdown",
   "metadata": {},
   "source": [
    "게임 화면은 \"1 x 1\" 크기의 칸들로 이루어진 \"N x N\" 크기의 정사각 격자이며 위쪽에는 크레인이 있고 오른쪽에는 바구니가 있습니다. (위 그림은 \"5 x 5\" 크기의 예시입니다). 각 격자 칸에는 다양한 인형이 들어 있으며 인형이 없는 칸은 빈칸입니다. 모든 인형은 \"1 x 1\" 크기의 격자 한 칸을 차지하며 격자의 가장 아래 칸부터 차곡차곡 쌓여 있습니다. 게임 사용자는 크레인을 좌우로 움직여서 멈춘 위치에서 가장 위에 있는 인형을 집어 올릴 수 있습니다. 집어 올린 인형은 바구니에 쌓이게 되는 데, 이때 바구니의 가장 아래 칸부터 인형이 순서대로 쌓이게 됩니다. 다음 그림은 [1번, 5번, 3번] 위치에서 순서대로 인형을 집어 올려 바구니에 담은 모습입니다.\n",
    "\n",
    "만약 같은 모양의 인형 두 개가 바구니에 연속해서 쌓이게 되면 두 인형은 터뜨려지면서 바구니에서 사라지게 됩니다. 위 상태에서 이어서 [5번] 위치에서 인형을 집어 바구니에 쌓으면 같은 모양 인형 두 개가 없어집니다.\n",
    "\n",
    "크레인 작동 시 인형이 집어지지 않는 경우는 없으나 만약 인형이 없는 곳에서 크레인을 작동시키는 경우에는 아무런 일도 일어나지 않습니다. 또한 바구니는 모든 인형이 들어갈 수 있을 만큼 충분히 크다고 가정합니다. (그림에서는 화면표시 제약으로 5칸만으로 표현하였음)\n",
    "\n",
    "게임 화면의 격자의 상태가 담긴 2차원 배열 board와 인형을 집기 위해 크레인을 작동시킨 위치가 담긴 배열 moves가 매개변수로 주어질 때, 크레인을 모두 작동시킨 후 터트려져 사라진 인형의 개수를 return 하도록 solution 함수를 완성해주세요."
   ]
  },
  {
   "cell_type": "code",
   "execution_count": null,
   "metadata": {},
   "outputs": [],
   "source": [
    "import numpy as np\n",
    "\n",
    "def solution(board, moves):\n",
    "    answer = 0\n",
    "    blocks = np.transpose(board).tolist()\n",
    "    doll_stack = []\n",
    "\n",
    "    for line in moves:\n",
    "        if len(doll_stack) == 0:\n",
    "            for i in range(len(blocks[line-1])):\n",
    "                if blocks[line-1][i] != 0:\n",
    "                    new_doll = blocks[line-1][i]\n",
    "                    doll_stack.append(new_doll)\n",
    "                    blocks[line-1][i] = 0\n",
    "                    break\n",
    "        else:\n",
    "            for i in range(len(blocks[line-1])):\n",
    "                if blocks[line-1][i] != 0:\n",
    "                    new_doll = blocks[line-1][i]\n",
    "                    if doll_stack[-1] == new_doll:\n",
    "                        doll_stack = doll_stack[:-1]\n",
    "                        answer += 2\n",
    "                    else:\n",
    "                        doll_stack.append(new_doll)\n",
    "                    blocks[line-1][i] = 0\n",
    "                    break\n",
    "                        \n",
    "    return answer"
   ]
  },
  {
   "attachments": {},
   "cell_type": "markdown",
   "metadata": {},
   "source": [
    "##### Q. 문자열 나누기\n",
    "\n",
    "문자열 s가 입력되었을 때 다음 규칙을 따라서 이 문자열을 여러 문자열로 분해하려고 합니다.\n",
    "\n",
    "먼저 첫 글자를 읽습니다. 이 글자를 x라고 합시다.\n",
    "이제 이 문자열을 왼쪽에서 오른쪽으로 읽어나가면서, x와 x가 아닌 다른 글자들이 나온 횟수를 각각 셉니다. 처음으로 두 횟수가 같아지는 순간 멈추고, 지금까지 읽은 문자열을 분리합니다.\n",
    "s에서 분리한 문자열을 빼고 남은 부분에 대해서 이 과정을 반복합니다. 남은 부분이 없다면 종료합니다.\n",
    "만약 두 횟수가 다른 상태에서 더 이상 읽을 글자가 없다면, 역시 지금까지 읽은 문자열을 분리하고, 종료합니다.\n",
    "문자열 s가 매개변수로 주어질 때, 위 과정과 같이 문자열들로 분해하고, 분해한 문자열의 개수를 return 하는 함수 solution을 완성하세요.\n"
   ]
  },
  {
   "cell_type": "code",
   "execution_count": null,
   "metadata": {},
   "outputs": [],
   "source": [
    "from collections import defaultdict\n",
    "def solution(s):\n",
    "    answer = 0\n",
    "    new_dict = defaultdict(int)\n",
    "    \n",
    "    first_come = False\n",
    "    first_char = '0'\n",
    "    \n",
    "    cnt = 0\n",
    "    for i in s:\n",
    "        cnt += 1\n",
    "        if first_come == False:\n",
    "            first_char = i\n",
    "            new_dict[first_char] += 1\n",
    "            first_come = True\n",
    "            if (cnt == len(s)) and first_come:\n",
    "                answer += 1\n",
    "            continue\n",
    "        else:\n",
    "            if i == first_char:\n",
    "                new_dict[first_char] += 1\n",
    "            else:\n",
    "                new_dict[\"others\"] += 1\n",
    "                \n",
    "        if new_dict[first_char] == new_dict[\"others\"]:\n",
    "            answer += 1\n",
    "            first_come = False\n",
    "            new_dict = defaultdict(int)\n",
    "            first_char = '0'\n",
    "        \n",
    "        if (cnt == len(s)) and first_come:\n",
    "                answer += 1\n",
    "\n",
    "    return answer"
   ]
  }
 ],
 "metadata": {
  "language_info": {
   "name": "python"
  },
  "orig_nbformat": 4
 },
 "nbformat": 4,
 "nbformat_minor": 2
}
