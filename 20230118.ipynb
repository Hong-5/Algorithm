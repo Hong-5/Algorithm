{
 "cells": [
  {
   "attachments": {},
   "cell_type": "markdown",
   "metadata": {},
   "source": [
    "# LEVEL 2"
   ]
  },
  {
   "attachments": {},
   "cell_type": "markdown",
   "metadata": {},
   "source": [
    "##### Q. 멀리 뛰기\n"
   ]
  },
  {
   "attachments": {},
   "cell_type": "markdown",
   "metadata": {},
   "source": [
    "효진이는 멀리 뛰기를 연습하고 있습니다. 효진이는 한번에 1칸, 또는 2칸을 뛸 수 있습니다. 칸이 총 4개 있을 때, 효진이는\n",
    "(1칸, 1칸, 1칸, 1칸)\n",
    "(1칸, 2칸, 1칸)\n",
    "(1칸, 1칸, 2칸)\n",
    "(2칸, 1칸, 1칸)\n",
    "(2칸, 2칸)\n",
    "의 5가지 방법으로 맨 끝 칸에 도달할 수 있습니다. 멀리뛰기에 사용될 칸의 수 n이 주어질 때, 효진이가 끝에 도달하는 방법이 몇 가지인지 알아내, 여기에 1234567를 나눈 나머지를 리턴하는 함수, solution을 완성하세요. 예를 들어 4가 입력된다면, 5를 return하면 됩니다.\n"
   ]
  },
  {
   "cell_type": "code",
   "execution_count": null,
   "metadata": {},
   "outputs": [],
   "source": [
    "def fac(k):\n",
    "    num = 1\n",
    "    for i in range(1, k+1):\n",
    "        num *= i\n",
    "    return num\n",
    "\n",
    "def nCr(n,r):\n",
    "    return fac(n) // (fac(r) * fac(n-r))\n",
    "\n",
    "def solution(n):\n",
    "    \n",
    "    answer = 0\n",
    "    \n",
    "    for i in range(n//2+1):\n",
    "        #i 가 반복문에 들어갈 2의 개수\n",
    "        num_2 = i\n",
    "        num_1 = n-i*2\n",
    "        total_num = num_2 + num_1\n",
    "\n",
    "        answer += nCr(total_num,num_2)\n",
    "    \n",
    "    return answer % 1234567"
   ]
  },
  {
   "attachments": {},
   "cell_type": "markdown",
   "metadata": {},
   "source": [
    "##### Q. H-Index\n",
    "\n",
    "H-Index는 과학자의 생산성과 영향력을 나타내는 지표입니다. 어느 과학자의 H-Index를 나타내는 값인 h를 구하려고 합니다. 위키백과1에 따르면, H-Index는 다음과 같이 구합니다.\n",
    "\n",
    "어떤 과학자가 발표한 논문 n편 중, h번 이상 인용된 논문이 h편 이상이고 나머지 논문이 h번 이하 인용되었다면 h의 최댓값이 이 과학자의 H-Index입니다.\n",
    "\n",
    "어떤 과학자가 발표한 논문의 인용 횟수를 담은 배열 citations가 매개변수로 주어질 때, 이 과학자의 H-Index를 return 하도록 solution 함수를 작성해주세요."
   ]
  },
  {
   "cell_type": "code",
   "execution_count": null,
   "metadata": {},
   "outputs": [],
   "source": [
    "import numpy as np\n",
    "\n",
    "def solution(citations):\n",
    "    answer = 0\n",
    "    citations = sorted(citations)\n",
    "    last = 0\n",
    "    n = len(citations)\n",
    "    for i in range(max(citations)+1):\n",
    "        h = i\n",
    "        if (sum(np.array(citations) >= h) >= h) and (sum(np.array(citations) < h) <= h):\n",
    "            if i >= last:\n",
    "                last = i\n",
    "        else:\n",
    "            break\n",
    "    if i == 0:\n",
    "        return 0\n",
    "    else:\n",
    "        return i-1"
   ]
  }
 ],
 "metadata": {
  "kernelspec": {
   "display_name": "base",
   "language": "python",
   "name": "python3"
  },
  "language_info": {
   "codemirror_mode": {
    "name": "ipython",
    "version": 3
   },
   "file_extension": ".py",
   "mimetype": "text/x-python",
   "name": "python",
   "nbconvert_exporter": "python",
   "pygments_lexer": "ipython3",
   "version": "3.7.9"
  },
  "orig_nbformat": 4,
  "vscode": {
   "interpreter": {
    "hash": "af40cdd1006690f4cf995187c855cf85ebfd55e0c8699f83ae7c9965d6b310a1"
   }
  }
 },
 "nbformat": 4,
 "nbformat_minor": 2
}
