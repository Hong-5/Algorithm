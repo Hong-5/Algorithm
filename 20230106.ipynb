{
 "cells": [
  {
   "cell_type": "markdown",
   "metadata": {},
   "source": [
    "# LEVEL 1"
   ]
  },
  {
   "cell_type": "markdown",
   "metadata": {},
   "source": [
    "##### Q. 로또의 최고 순위와 최저 순위\n",
    "\n",
    "민우가 구매한 로또 번호를 담은 배열 lottos, 당첨 번호를 담은 배열 win_nums가 매개변수로 주어집니다. 이때, 당첨 가능한 최고 순위와 최저 순위를 차례대로 배열에 담아서 return 하도록 solution 함수를 완성해주세요."
   ]
  },
  {
   "cell_type": "code",
   "execution_count": null,
   "metadata": {},
   "outputs": [],
   "source": [
    "def solution(lottos, win_nums):\n",
    "\n",
    "    cnt_good = 0\n",
    "    cnt_0 = 0\n",
    "    answer = []\n",
    "    for i in lottos:\n",
    "        if i == 0:\n",
    "            cnt_0 += 1\n",
    "        for j in win_nums:\n",
    "            if i == j:\n",
    "                cnt_good += 1 \n",
    "    \n",
    "    \n",
    "    max_score = cnt_good + cnt_0\n",
    "    min_score = cnt_good\n",
    "    \n",
    "    max_rank = 7-max_score\n",
    "    min_rank = 7-min_score\n",
    "    \n",
    "    if max_rank > 6:\n",
    "        max_rank = 6\n",
    "    \n",
    "    if min_rank > 6:\n",
    "        min_rank = 6\n",
    "    \n",
    "    return [max_rank, min_rank]"
   ]
  },
  {
   "cell_type": "markdown",
   "metadata": {},
   "source": [
    "##### Q. 체육복\n",
    "\n",
    "전체 학생의 수 n, 체육복을 도난당한 학생들의 번호가 담긴 배열 lost, 여벌의 체육복을 가져온 학생들의 번호가 담긴 배열 reserve가 매개변수로 주어질 때, 체육수업을 들을 수 있는 학생의 최댓값을 return 하도록 solution 함수를 작성해주세요.\n",
    "\n",
    "- 전체 학생의 수는 2명 이상 30명 이하입니다.\n",
    "- 체육복을 도난당한 학생의 수는 1명 이상 n명 이하이고 중복되는 번호는 없습니다.\n",
    "- 여벌의 체육복을 가져온 학생의 수는 1명 이상 n명 이하이고 중복되는 번호는 없습니다.\n",
    "- 여벌 체육복이 있는 학생만 다른 학생에게 체육복을 빌려줄 수 있습니다.\n",
    "- 여벌 체육복을 가져온 학생이 체육복을 도난당했을 수 있습니다. 이때 이 학생은 체육복을 하나만 도난당했다고 가정하며, 남은 체육복이 하나이기에 다른 학생에게는 체육복을 빌려줄 수 없습니다."
   ]
  },
  {
   "cell_type": "code",
   "execution_count": null,
   "metadata": {},
   "outputs": [],
   "source": [
    "def solution(n, lost, reserve):\n",
    "    answer = 0\n",
    "    all_stu = [1]*n\n",
    "    \n",
    "    \n",
    "    \n",
    "    for i in reserve:\n",
    "        all_stu[i-1] = 2\n",
    "    \n",
    "    for i in lost:\n",
    "        all_stu[i-1] = 0\n",
    "    \n",
    "    for i in range(len(all_stu)):\n",
    "        if (i == 0) and (all_stu[i] == 2):\n",
    "            all_stu[1] = 1\n",
    "        elif (i == n-1) and (all_stu[n-1] == 2):\n",
    "            all_stu[-2] = 1\n",
    "        elif all_stu[i] == 2:\n",
    "            if all_stu[i-1] == 0:\n",
    "                all_stu[i-1] = 1\n",
    "            elif all_stu[i+1] == 0:\n",
    "                all_stu[i+1] = 1\n",
    "    \n",
    "    \n",
    "    return n - all_stu.count(0)"
   ]
  },
  {
   "cell_type": "markdown",
   "metadata": {},
   "source": [
    "1차 시도 64점 실패.."
   ]
  },
  {
   "cell_type": "code",
   "execution_count": null,
   "metadata": {},
   "outputs": [],
   "source": [
    "def solution(n, lost, reserve):\n",
    "    answer = 0\n",
    "    all_stu = [1]*n\n",
    "    \n",
    "    \n",
    "    \n",
    "    for i in reserve:\n",
    "        all_stu[i-1] = 2\n",
    "    \n",
    "    for i in lost:\n",
    "        all_stu[i-1] -= 1 \n",
    "    \n",
    "    for i in range(len(all_stu)):\n",
    "        if all_stu[i] == 0:\n",
    "            try:\n",
    "                if all_stu[i-1] == 2:\n",
    "                    all_stu[i-1] = 1\n",
    "                    all_stu[i] = 1\n",
    "                elif all_stu[i+1] == 2:\n",
    "                    all_stu[i+1] = 1\n",
    "                    all_stu[i] = 1\n",
    "                else:\n",
    "                    pass\n",
    "            except:\n",
    "                if i == 0:\n",
    "                    if all_stu[i+1] == 2:\n",
    "                        all_stu[i+1] = 1\n",
    "                        all_stu[i] = 1\n",
    "                elif i == n:\n",
    "                    if all_stu[i-1] == 2:\n",
    "                        all_stu[i-1] = 1\n",
    "                        all_stu[i] = 1\n",
    "    \n",
    "    return n - all_stu.count(0)"
   ]
  },
  {
   "cell_type": "markdown",
   "metadata": {},
   "source": [
    "2차 시도 테케하나 틀림..."
   ]
  },
  {
   "cell_type": "markdown",
   "metadata": {},
   "source": [
    "##### Q. 과일 장수\n",
    "\n",
    "과일 장수가 사과 상자를 포장하고 있습니다. 사과는 상태에 따라 1점부터 k점까지의 점수로 분류하며, k점이 최상품의 사과이고 1점이 최하품의 사과입니다. 사과 한 상자의 가격은 다음과 같이 결정됩니다.\n",
    "\n",
    "한 상자에 사과를 m개씩 담아 포장합니다.\n",
    "상자에 담긴 사과 중 가장 낮은 점수가 p (1 ≤ p ≤ k)점인 경우, 사과 한 상자의 가격은 p * m 입니다.\n",
    "과일 장수가 가능한 많은 사과를 팔았을 때, 얻을 수 있는 최대 이익을 계산하고자 합니다.(사과는 상자 단위로만 판매하며, 남는 사과는 버립니다)\n",
    "\n",
    "예를 들어, k = 3, m = 4, 사과 7개의 점수가 [1, 2, 3, 1, 2, 3, 1]이라면, 다음과 같이 [2, 3, 2, 3]으로 구성된 사과 상자 1개를 만들어 판매하여 최대 이익을 얻을 수 있습니다.\n",
    "\n",
    "(최저 사과 점수) x (한 상자에 담긴 사과 개수) x (상자의 개수) = 2 x 4 x 1 = 8\n",
    "사과의 최대 점수 k, 한 상자에 들어가는 사과의 수 m, 사과들의 점수 score가 주어졌을 때, 과일 장수가 얻을 수 있는 최대 이익을 return하는 solution 함수를 완성해주세요.\n",
    "\n"
   ]
  },
  {
   "cell_type": "code",
   "execution_count": null,
   "metadata": {},
   "outputs": [],
   "source": [
    "def solution(k, m, score):\n",
    "    answer = 0\n",
    "    total_box_cnt = int(len(score) / m)\n",
    "    score = sorted(score, reverse = True)\n",
    "    for i in range(total_box_cnt):\n",
    "        each_box = score[i*m:(i+1)*m]\n",
    "        answer += min(each_box)*m\n",
    "        \n",
    "    return answer"
   ]
  },
  {
   "cell_type": "markdown",
   "metadata": {},
   "source": [
    "##### Q. 완주하지 못한 선수\n",
    "\n",
    "마라톤에 참여한 선수들의 이름이 담긴 배열 participant와 완주한 선수들의 이름이 담긴 배열 completion이 주어질 때, 완주하지 못한 선수의 이름을 return 하도록 solution 함수를 작성해주세요.\n",
    "\n",
    "- 마라톤 경기에 참여한 선수의 수는 1명 이상 100,000명 이하입니다.\n",
    "- completion의 길이는 participant의 길이보다 1 작습니다.\n",
    "- 참가자의 이름은 1개 이상 20개 이하의 알파벳 소문자로 이루어져 있습니다.\n",
    "- 참가자 중에는 동명이인이 있을 수 있습니다.\n"
   ]
  },
  {
   "cell_type": "code",
   "execution_count": null,
   "metadata": {},
   "outputs": [],
   "source": [
    "from collections import defaultdict\n",
    "\n",
    "def solution(participant, completion):\n",
    "    answer = ''\n",
    "    people_dict = defaultdict(int)\n",
    "    for i in participant:\n",
    "        people_dict[i] += 1\n",
    "    \n",
    "    for j in completion:\n",
    "        people_dict[j] -= 1\n",
    "    \n",
    "    for i in people_dict:\n",
    "        if people_dict[i] == 1:\n",
    "            answer = i\n",
    "    return answer"
   ]
  }
 ],
 "metadata": {
  "language_info": {
   "name": "python"
  },
  "orig_nbformat": 4
 },
 "nbformat": 4,
 "nbformat_minor": 2
}
