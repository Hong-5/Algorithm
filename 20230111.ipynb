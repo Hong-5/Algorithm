{
 "cells": [
  {
   "attachments": {},
   "cell_type": "markdown",
   "metadata": {},
   "source": [
    "# LEVEL 1"
   ]
  },
  {
   "attachments": {},
   "cell_type": "markdown",
   "metadata": {},
   "source": [
    "##### Q. 옹알이 (2)\n",
    "\n",
    "머쓱이는 태어난 지 11개월 된 조카를 돌보고 있습니다. 조카는 아직 \"aya\", \"ye\", \"woo\", \"ma\" 네 가지 발음과 네 가지 발음을 조합해서 만들 수 있는 발음밖에 하지 못하고 연속해서 같은 발음을 하는 것을 어려워합니다. 문자열 배열 babbling이 매개변수로 주어질 때, 머쓱이의 조카가 발음할 수 있는 단어의 개수를 return하도록 solution 함수를 완성해주세요.\n",
    "\n"
   ]
  },
  {
   "cell_type": "code",
   "execution_count": 3,
   "metadata": {},
   "outputs": [],
   "source": [
    "def solution(babbling):\n",
    "    answer = 0\n",
    "    for word in babbling:\n",
    "        before_word = ''\n",
    "        while True:\n",
    "            if (word[:2] == 'ye') and (before_word != 'ye'):\n",
    "                word = word[2:]\n",
    "                before_word = 'ye'\n",
    "            elif (word[:2] == 'ma') and (before_word != 'ma'):\n",
    "                word = word[2:]\n",
    "                before_word = 'ma'\n",
    "            elif (word[:3] == 'aya') and (before_word != 'aya'):\n",
    "                word = word[3:]\n",
    "                before_word = 'aya'\n",
    "            elif (word[:3] == 'woo') and (before_word != 'woo'):\n",
    "                word = word[3:]\n",
    "                before_word = 'woo'\n",
    "            else:\n",
    "                if word == \"\":\n",
    "                    answer += 1\n",
    "                    break\n",
    "                else:\n",
    "                    break\n",
    "\n",
    "    return answer"
   ]
  },
  {
   "attachments": {},
   "cell_type": "markdown",
   "metadata": {},
   "source": [
    "##### Q. 성격 유형 검사하기\n",
    "\n",
    "나만의 카카오 성격 유형 검사지를 만들려고 합니다.\n",
    "성격 유형 검사는 다음과 같은 4개 지표로 성격 유형을 구분합니다. 성격은 각 지표에서 두 유형 중 하나로 결정됩니다.\n",
    "\n",
    "- 지표 번호\t성격 유형\n",
    "- 1번 지표\t라이언형(R), 튜브형(T)\n",
    "- 2번 지표\t콘형(C), 프로도형(F)\n",
    "- 3번 지표\t제이지형(J), 무지형(M)\n",
    "- 4번 지표\t어피치형(A), 네오형(N)\n",
    "\n",
    "4개의 지표가 있으므로 성격 유형은 총 16(=2 x 2 x 2 x 2)가지가 나올 수 있습니다. 예를 들어, \"RFMN\"이나 \"TCMA\"와 같은 성격 유형이 있습니다.\n",
    "\n",
    "검사지에는 총 n개의 질문이 있고, 각 질문에는 아래와 같은 7개의 선택지가 있습니다.\n",
    "\n",
    "- 매우 비동의\n",
    "- 비동의\n",
    "- 약간 비동의\n",
    "- 모르겠음\n",
    "- 약간 동의\n",
    "- 동의\n",
    "- 매우 동의\n",
    "\n",
    "각 질문은 1가지 지표로 성격 유형 점수를 판단합니다.\n",
    "\n",
    "예를 들어, 어떤 한 질문에서 4번 지표로 아래 표처럼 점수를 매길 수 있습니다.\n",
    "\n",
    "선택지\t성격 유형 점수\n",
    "매우 비동의\t네오형 3점\n",
    "비동의\t네오형 2점\n",
    "약간 비동의\t네오형 1점\n",
    "모르겠음\t어떤 성격 유형도 점수를 얻지 않습니다\n",
    "약간 동의\t어피치형 1점\n",
    "동의\t어피치형 2점\n",
    "매우 동의\t어피치형 3점\n",
    "\n",
    "이때 검사자가 질문에서 약간 동의 선택지를 선택할 경우 어피치형(A) 성격 유형 1점을 받게 됩니다. 만약 검사자가 매우 비동의 선택지를 선택할 경우 네오형(N) 성격 유형 3점을 받게 됩니다.\n",
    "\n",
    "위 예시처럼 네오형이 비동의, 어피치형이 동의인 경우만 주어지지 않고, 질문에 따라 네오형이 동의, 어피치형이 비동의인 경우도 주어질 수 있습니다.\n",
    "하지만 각 선택지는 고정적인 크기의 점수를 가지고 있습니다.\n",
    "\n",
    "매우 동의나 매우 비동의 선택지를 선택하면 3점을 얻습니다.\n",
    "동의나 비동의 선택지를 선택하면 2점을 얻습니다.\n",
    "약간 동의나 약간 비동의 선택지를 선택하면 1점을 얻습니다.\n",
    "모르겠음 선택지를 선택하면 점수를 얻지 않습니다.\n",
    "검사 결과는 모든 질문의 성격 유형 점수를 더하여 각 지표에서 더 높은 점수를 받은 성격 유형이 검사자의 성격 유형이라고 판단합니다. 단, 하나의 지표에서 각 성격 유형 점수가 같으면, 두 성격 유형 중 사전 순으로 빠른 성격 유형을 검사자의 성격 유형이라고 판단합니다.\n",
    "\n",
    "질문마다 판단하는 지표를 담은 1차원 문자열 배열 survey와 검사자가 각 질문마다 선택한 선택지를 담은 1차원 정수 배열 choices가 매개변수로 주어집니다. 이때, 검사자의 성격 유형 검사 결과를 지표 번호 순서대로 return 하도록 solution 함수를 완성해주세요."
   ]
  },
  {
   "cell_type": "code",
   "execution_count": null,
   "metadata": {},
   "outputs": [],
   "source": [
    "def solution(survey, choices):\n",
    "    answer = ''\n",
    "    emotion_dict = {\n",
    "        \"RT\" : 0,\n",
    "        \"CF\" : 0,\n",
    "        \"JM\" : 0,\n",
    "        \"AN\" : 0\n",
    "    }\n",
    "    # abcdefghijklmnopqrstuvwxyz\n",
    "    \n",
    "    for i in range(len(survey)):\n",
    "        if survey[i] == \"RT\":\n",
    "            emotion_dict['RT'] -= (4 - choices[i])\n",
    "        elif survey[i] == \"TR\":\n",
    "            emotion_dict['RT'] += (4 - choices[i])\n",
    "        elif survey[i] == \"CF\":\n",
    "            emotion_dict['CF'] -= (4 - choices[i])\n",
    "        elif survey[i] == \"FC\":\n",
    "            emotion_dict['CF'] += (4 - choices[i])\n",
    "        elif survey[i] == \"JM\":\n",
    "            emotion_dict['JM'] -= (4 - choices[i])\n",
    "        elif survey[i] == \"MJ\":\n",
    "            emotion_dict['JM'] += (4 - choices[i])\n",
    "        elif survey[i] == \"AN\":\n",
    "            emotion_dict['AN'] -= (4 - choices[i])\n",
    "        elif survey[i] == \"NA\":\n",
    "            emotion_dict['AN'] += (4 - choices[i])\n",
    "\n",
    "    for emo_type in emotion_dict:\n",
    "        if emotion_dict[emo_type] <= 0:\n",
    "            answer += emo_type[0]\n",
    "        elif emotion_dict[emo_type] > 0:\n",
    "            answer += emo_type[1]\n",
    "            \n",
    "    return answer"
   ]
  },
  {
   "attachments": {},
   "cell_type": "markdown",
   "metadata": {},
   "source": [
    "##### Q. 햄버거 만들기\n",
    "\n",
    "햄버거 가게에서 일을 하는 상수는 햄버거를 포장하는 일을 합니다. 함께 일을 하는 다른 직원들이 햄버거에 들어갈 재료를 조리해 주면 조리된 순서대로 상수의 앞에 아래서부터 위로 쌓이게 되고, 상수는 순서에 맞게 쌓여서 완성된 햄버거를 따로 옮겨 포장을 하게 됩니다. 상수가 일하는 가게는 정해진 순서(아래서부터, 빵 – 야채 – 고기 - 빵)로 쌓인 햄버거만 포장을 합니다. 상수는 손이 굉장히 빠르기 때문에 상수가 포장하는 동안 속 재료가 추가적으로 들어오는 일은 없으며, 재료의 높이는 무시하여 재료가 높이 쌓여서 일이 힘들어지는 경우는 없습니다.\n",
    "\n",
    "예를 들어, 상수의 앞에 쌓이는 재료의 순서가 [야채, 빵, 빵, 야채, 고기, 빵, 야채, 고기, 빵]일 때, 상수는 여섯 번째 재료가 쌓였을 때, 세 번째 재료부터 여섯 번째 재료를 이용하여 햄버거를 포장하고, 아홉 번째 재료가 쌓였을 때, 두 번째 재료와 일곱 번째 재료부터 아홉 번째 재료를 이용하여 햄버거를 포장합니다. 즉, 2개의 햄버거를 포장하게 됩니다.\n",
    "\n",
    "상수에게 전해지는 재료의 정보를 나타내는 정수 배열 ingredient가 주어졌을 때, 상수가 포장하는 햄버거의 개수를 return 하도록 solution 함수를 완성하시오."
   ]
  },
  {
   "cell_type": "code",
   "execution_count": 14,
   "metadata": {},
   "outputs": [],
   "source": [
    "def solution(ingredient):\n",
    "    answer = 0\n",
    "#     1   2   3   1\n",
    "#     빵 야채 고기 빵\n",
    "    ing_str = \"\".join(map(str,ingredient))\n",
    "    before_ing_str = ing_str\n",
    "    \n",
    "    while True:\n",
    "        find_index = ing_str.find('1231')\n",
    "        if find_index == -1:\n",
    "            break\n",
    "        else:\n",
    "            ing_str = ing_str[:find_index] + ing_str[find_index+4:]\n",
    "        \n",
    "        if ing_str == before_ing_str:\n",
    "            break\n",
    "        else:\n",
    "            answer += 1\n",
    "            before_ing_str = ing_str\n",
    "        \n",
    "    return answer"
   ]
  },
  {
   "attachments": {},
   "cell_type": "markdown",
   "metadata": {},
   "source": [
    "- 잘 작동하지만 시간 초과로 테케 5, 12번 실패.."
   ]
  },
  {
   "cell_type": "code",
   "execution_count": 22,
   "metadata": {},
   "outputs": [],
   "source": [
    "def solution(ingredient):\n",
    "    answer = 0\n",
    "    ing_stack = []\n",
    "    \n",
    "    for i in ingredient:\n",
    "        ing_stack.append(i)\n",
    "        \n",
    "        if ing_stack[-4:] == [1,2,3,1]:\n",
    "            \n",
    "            ing_stack.pop()\n",
    "            ing_stack.pop()\n",
    "            ing_stack.pop()\n",
    "            ing_stack.pop()\n",
    "        \n",
    "            answer += 1\n",
    "            \n",
    "    return answer\n"
   ]
  },
  {
   "attachments": {},
   "cell_type": "markdown",
   "metadata": {},
   "source": [
    "- 리스트 자료구조 pop으로 마지막부터 원소 4개 지워줌"
   ]
  }
 ],
 "metadata": {
  "kernelspec": {
   "display_name": "Python 3",
   "language": "python",
   "name": "python3"
  },
  "language_info": {
   "codemirror_mode": {
    "name": "ipython",
    "version": 3
   },
   "file_extension": ".py",
   "mimetype": "text/x-python",
   "name": "python",
   "nbconvert_exporter": "python",
   "pygments_lexer": "ipython3",
   "version": "3.9.0"
  },
  "orig_nbformat": 4,
  "vscode": {
   "interpreter": {
    "hash": "aee8b7b246df8f9039afb4144a1f6fd8d2ca17a180786b69acc140d282b71a49"
   }
  }
 },
 "nbformat": 4,
 "nbformat_minor": 2
}
