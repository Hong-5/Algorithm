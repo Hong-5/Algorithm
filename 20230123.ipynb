{
 "cells": [
  {
   "attachments": {},
   "cell_type": "markdown",
   "metadata": {},
   "source": [
    "# LEVEL 2"
   ]
  },
  {
   "attachments": {},
   "cell_type": "markdown",
   "metadata": {},
   "source": [
    "##### Q. 튜플\n",
    "\n",
    "셀수있는 수량의 순서있는 열거 또는 어떤 순서를 따르는 요소들의 모음을 튜플(tuple)이라고 합니다. n개의 요소를 가진 튜플을 n-튜플(n-tuple)이라고 하며, 다음과 같이 표현할 수 있습니다.\n",
    "\n",
    "(a1, a2, a3, ..., an)\n",
    "튜플은 다음과 같은 성질을 가지고 있습니다.\n",
    "\n",
    "중복된 원소가 있을 수 있습니다. ex : (2, 3, 1, 2)\n",
    "원소에 정해진 순서가 있으며, 원소의 순서가 다르면 서로 다른 튜플입니다. ex : (1, 2, 3) ≠ (1, 3, 2)\n",
    "튜플의 원소 개수는 유한합니다.\n",
    "원소의 개수가 n개이고, 중복되는 원소가 없는 튜플 (a1, a2, a3, ..., an)이 주어질 때(단, a1, a2, ..., an은 자연수), 이는 다음과 같이 집합 기호 '{', '}'를 이용해 표현할 수 있습니다.\n",
    "\n",
    "{{a1}, {a1, a2}, {a1, a2, a3}, {a1, a2, a3, a4}, ... {a1, a2, a3, a4, ..., an}}\n",
    "예를 들어 튜플이 (2, 1, 3, 4)인 경우 이는\n",
    "\n",
    "{{2}, {2, 1}, {2, 1, 3}, {2, 1, 3, 4}}\n",
    "와 같이 표현할 수 있습니다. 이때, 집합은 원소의 순서가 바뀌어도 상관없으므로\n",
    "\n",
    "{{2}, {2, 1}, {2, 1, 3}, {2, 1, 3, 4}}\n",
    "{{2, 1, 3, 4}, {2}, {2, 1, 3}, {2, 1}}\n",
    "{{1, 2, 3}, {2, 1}, {1, 2, 4, 3}, {2}}\n",
    "는 모두 같은 튜플 (2, 1, 3, 4)를 나타냅니다.\n",
    "\n",
    "특정 튜플을 표현하는 집합이 담긴 문자열 s가 매개변수로 주어질 때, s가 표현하는 튜플을 배열에 담아 return 하도록 solution 함수를 완성해주세요.\n",
    "\n"
   ]
  },
  {
   "cell_type": "code",
   "execution_count": null,
   "metadata": {},
   "outputs": [],
   "source": [
    "from collections import defaultdict\n",
    "\n",
    "def solution(s):\n",
    "    answer = []\n",
    "    \n",
    "    s = s.split('},{')\n",
    "    s = [i.replace(\"{\", \"\") for i in s]\n",
    "    s = [i.replace(\"}\", \"\") for i in s]\n",
    "    s = [i.replace(\",\", \"\") for i in s]\n",
    "    \n",
    "    new_dict = defaultdict(int)\n",
    "    \n",
    "    for i in s:\n",
    "        new_dict[i] = len(i)\n",
    "        \n",
    "    cnt = 0\n",
    "    for key in sorted(new_dict.items(), key = lambda item: item[1]):\n",
    "        new_str = key[0]\n",
    "        if cnt == 0:\n",
    "            answer.append(key[0])\n",
    "            cnt += 1\n",
    "        else:\n",
    "            for string in answer:\n",
    "                new_str = new_str.replace(string, \"\")\n",
    "            answer.append(new_str)\n",
    "    return [int(i) for i in answer]"
   ]
  },
  {
   "attachments": {},
   "cell_type": "markdown",
   "metadata": {},
   "source": [
    "- 틀림.."
   ]
  },
  {
   "cell_type": "code",
   "execution_count": null,
   "metadata": {},
   "outputs": [],
   "source": [
    "from collections import defaultdict\n",
    "\n",
    "def solution(s):\n",
    "    answer = []\n",
    "    \n",
    "    s = s.split('},{')\n",
    "    s = [i.lstrip('{{') for i in s]\n",
    "    s = [i.rstrip('}}') for i in s]\n",
    "    \n",
    "    new_dict = defaultdict(int)\n",
    "    \n",
    "    for block in s:\n",
    "        tmp_list = block.split(',')\n",
    "        for j in tmp_list:\n",
    "            new_dict[j] += 1\n",
    "    \n",
    "    for i in sorted(new_dict.items(), key = lambda item : item[1], reverse = True):\n",
    "        answer.append(int(i[0]))\n",
    "    \n",
    "    return answer"
   ]
  },
  {
   "attachments": {},
   "cell_type": "markdown",
   "metadata": {},
   "source": [
    "##### Q. 기능개발\n",
    "\n",
    "프로그래머스 팀에서는 기능 개선 작업을 수행 중입니다. 각 기능은 진도가 100%일 때 서비스에 반영할 수 있습니다.\n",
    "\n",
    "또, 각 기능의 개발속도는 모두 다르기 때문에 뒤에 있는 기능이 앞에 있는 기능보다 먼저 개발될 수 있고, 이때 뒤에 있는 기능은 앞에 있는 기능이 배포될 때 함께 배포됩니다.\n",
    "\n",
    "먼저 배포되어야 하는 순서대로 작업의 진도가 적힌 정수 배열 progresses와 각 작업의 개발 속도가 적힌 정수 배열 speeds가 주어질 때 각 배포마다 몇 개의 기능이 배포되는지를 return 하도록 solution 함수를 완성하세요.\n",
    "\n",
    "제한 사항\n",
    "작업의 개수(progresses, speeds배열의 길이)는 100개 이하입니다.\n",
    "작업 진도는 100 미만의 자연수입니다.\n",
    "작업 속도는 100 이하의 자연수입니다.\n",
    "배포는 하루에 한 번만 할 수 있으며, 하루의 끝에 이루어진다고 가정합니다. 예를 들어 진도율이 95%인 작업의 개발 속도가 하루에 4%라면 배포는 2일 뒤에 이루어집니다."
   ]
  },
  {
   "cell_type": "code",
   "execution_count": 17,
   "metadata": {},
   "outputs": [],
   "source": [
    "import math\n",
    "from collections import deque\n",
    "import numpy as np\n",
    "\n",
    "def solution(progresses, speeds):\n",
    "    answer = []\n",
    "    stack_list = deque()\n",
    "    \n",
    "    for i in range(len(progresses)):\n",
    "        remain = 100 - progresses[i]\n",
    "        stack_list.append(math.ceil(remain / speeds[i]))\n",
    "        \n",
    "    print(stack_list)\n",
    "    print('-'*10)\n",
    "    cnt = 0\n",
    "    \n",
    "    while len(stack_list) != 0 :\n",
    "        stack_list = deque(np.array(stack_list) - np.array([1 for i in range(len(stack_list))]))\n",
    "        print(stack_list)\n",
    "        if stack_list[0] == 0:\n",
    "            cnt = 1\n",
    "            stack_list.popleft()\n",
    "            try:\n",
    "                while stack_list[0] <= 0:\n",
    "                    cnt += 1\n",
    "                    stack_list.popleft()\n",
    "                answer.append(cnt)\n",
    "            except:\n",
    "                answer.append(cnt)\n",
    "            print(cnt)\n",
    "    \n",
    "    return answer"
   ]
  },
  {
   "cell_type": "code",
   "execution_count": 18,
   "metadata": {},
   "outputs": [
    {
     "name": "stdout",
     "output_type": "stream",
     "text": [
      "deque([7, 3, 9])\n",
      "----------\n",
      "deque([6, 2, 8])\n",
      "deque([5, 1, 7])\n",
      "deque([4, 0, 6])\n",
      "deque([3, -1, 5])\n",
      "deque([2, -2, 4])\n",
      "deque([1, -3, 3])\n",
      "deque([0, -4, 2])\n",
      "2\n",
      "deque([1])\n",
      "deque([0])\n",
      "1\n"
     ]
    },
    {
     "data": {
      "text/plain": [
       "[2, 1]"
      ]
     },
     "execution_count": 18,
     "metadata": {},
     "output_type": "execute_result"
    }
   ],
   "source": [
    "progresses = [93, 30, 55]\n",
    "speeds = [1, 30, 5]\n",
    "\n",
    "solution(progresses, speeds)\n"
   ]
  },
  {
   "cell_type": "code",
   "execution_count": 20,
   "metadata": {},
   "outputs": [
    {
     "name": "stdout",
     "output_type": "stream",
     "text": [
      "deque([5, 10, 1, 1, 20, 1])\n",
      "----------\n",
      "deque([4, 9, 0, 0, 19, 0])\n",
      "deque([3, 8, -1, -1, 18, -1])\n",
      "deque([2, 7, -2, -2, 17, -2])\n",
      "deque([1, 6, -3, -3, 16, -3])\n",
      "deque([0, 5, -4, -4, 15, -4])\n",
      "1\n",
      "deque([4, -5, -5, 14, -5])\n",
      "deque([3, -6, -6, 13, -6])\n",
      "deque([2, -7, -7, 12, -7])\n",
      "deque([1, -8, -8, 11, -8])\n",
      "deque([0, -9, -9, 10, -9])\n",
      "3\n",
      "deque([9, -10])\n",
      "deque([8, -11])\n",
      "deque([7, -12])\n",
      "deque([6, -13])\n",
      "deque([5, -14])\n",
      "deque([4, -15])\n",
      "deque([3, -16])\n",
      "deque([2, -17])\n",
      "deque([1, -18])\n",
      "deque([0, -19])\n",
      "2\n"
     ]
    },
    {
     "data": {
      "text/plain": [
       "[1, 3, 2]"
      ]
     },
     "execution_count": 20,
     "metadata": {},
     "output_type": "execute_result"
    }
   ],
   "source": [
    "progresses = [95, 90, 99, 99, 80, 99]\t\n",
    "speeds = [1, 1, 1, 1, 1, 1]\n",
    "\n",
    "solution(progresses, speeds)"
   ]
  }
 ],
 "metadata": {
  "kernelspec": {
   "display_name": "base",
   "language": "python",
   "name": "python3"
  },
  "language_info": {
   "codemirror_mode": {
    "name": "ipython",
    "version": 3
   },
   "file_extension": ".py",
   "mimetype": "text/x-python",
   "name": "python",
   "nbconvert_exporter": "python",
   "pygments_lexer": "ipython3",
   "version": "3.7.9"
  },
  "orig_nbformat": 4,
  "vscode": {
   "interpreter": {
    "hash": "af40cdd1006690f4cf995187c855cf85ebfd55e0c8699f83ae7c9965d6b310a1"
   }
  }
 },
 "nbformat": 4,
 "nbformat_minor": 2
}
