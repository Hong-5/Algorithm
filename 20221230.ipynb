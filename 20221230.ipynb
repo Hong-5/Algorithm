{
 "cells": [
  {
   "cell_type": "markdown",
   "metadata": {},
   "source": [
    "# Level 1"
   ]
  },
  {
   "cell_type": "markdown",
   "metadata": {},
   "source": [
    "##### 크기가 작은 부분문자열"
   ]
  },
  {
   "cell_type": "code",
   "execution_count": 1,
   "metadata": {},
   "outputs": [],
   "source": [
    "def solution(t, p):\n",
    "    answer = 0\n",
    "    num_list = []\n",
    "    for i in range(len(t)-len(p)+1):\n",
    "        num_list.append(t[i:i+len(p)])\n",
    "    \n",
    "    for j in num_list:\n",
    "        if int(j) <= int(p):\n",
    "            answer += 1\n",
    "    \n",
    "    return answer"
   ]
  },
  {
   "cell_type": "markdown",
   "metadata": {},
   "source": [
    "##### 직사각형 별찍기"
   ]
  },
  {
   "cell_type": "code",
   "execution_count": 2,
   "metadata": {},
   "outputs": [
    {
     "name": "stdout",
     "output_type": "stream",
     "text": [
      "5 3\n",
      "*****\n",
      "*****\n",
      "*****\n"
     ]
    }
   ],
   "source": [
    "a, b = map(int, input().strip().split(' '))\n",
    "for i in range(b):\n",
    "    print('*'*a)"
   ]
  },
  {
   "cell_type": "markdown",
   "metadata": {},
   "source": [
    "##### 최대공약수와 최소공배수"
   ]
  },
  {
   "cell_type": "code",
   "execution_count": 3,
   "metadata": {},
   "outputs": [],
   "source": [
    "def solution(n, m):\n",
    "    min_num = 0\n",
    "    max_num = 0\n",
    "    \n",
    "    for i in range(1, min(n,m)+1,):\n",
    "        if (n % i == 0) and (m % i == 0):\n",
    "            max_num = i\n",
    "            \n",
    "    min_num = int(n * m / max_num)\n",
    "    \n",
    "    return [max_num, min_num]"
   ]
  },
  {
   "cell_type": "markdown",
   "metadata": {},
   "source": [
    "##### 같은 숫자는 싫어"
   ]
  },
  {
   "cell_type": "code",
   "execution_count": 4,
   "metadata": {},
   "outputs": [],
   "source": [
    "# 효율성 테스트 실패\n",
    "def solution(arr):\n",
    "    answer = []\n",
    "    before_num = 0\n",
    "    for i in range(len(arr)):\n",
    "        if i == 0:\n",
    "            before_num = arr.pop(0)\n",
    "            answer.append(before_num)\n",
    "        else:\n",
    "            new_num = arr.pop(0)\n",
    "            if before_num == new_num:\n",
    "                pass\n",
    "            else:\n",
    "                before_num = new_num\n",
    "                answer.append(before_num)\n",
    "    return answer"
   ]
  },
  {
   "cell_type": "code",
   "execution_count": 5,
   "metadata": {},
   "outputs": [],
   "source": [
    "def solution(arr):\n",
    "    answer = []\n",
    "    for i in range(len(arr)):\n",
    "        if i == 0:\n",
    "            answer.append(arr[i])\n",
    "        else:\n",
    "            if arr[i-1] == arr[i]:\n",
    "                pass\n",
    "            else:\n",
    "                answer.append(arr[i])\n",
    "                \n",
    "    return answer"
   ]
  },
  {
   "cell_type": "markdown",
   "metadata": {},
   "source": [
    "##### 이상한 문자 만들기"
   ]
  },
  {
   "cell_type": "code",
   "execution_count": 6,
   "metadata": {},
   "outputs": [],
   "source": [
    "def solution(s):\n",
    "    answer = ''\n",
    "    char_list = s.split(' ')\n",
    "    \n",
    "    for char in char_list:\n",
    "        for i in range(len(char)):\n",
    "            if i % 2 == 0:\n",
    "                answer += char[i].upper()\n",
    "            else:\n",
    "                answer += char[i].lower()\n",
    "        answer += ' '\n",
    "        \n",
    "    return answer[:-1]"
   ]
  }
 ],
 "metadata": {
  "kernelspec": {
   "display_name": "Python 3",
   "language": "python",
   "name": "python3"
  },
  "language_info": {
   "codemirror_mode": {
    "name": "ipython",
    "version": 3
   },
   "file_extension": ".py",
   "mimetype": "text/x-python",
   "name": "python",
   "nbconvert_exporter": "python",
   "pygments_lexer": "ipython3",
   "version": "3.7.9"
  }
 },
 "nbformat": 4,
 "nbformat_minor": 4
}
