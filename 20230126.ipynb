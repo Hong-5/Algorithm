{
 "cells": [
  {
   "attachments": {},
   "cell_type": "markdown",
   "metadata": {},
   "source": [
    "# LEVEL 2"
   ]
  },
  {
   "attachments": {},
   "cell_type": "markdown",
   "metadata": {},
   "source": [
    "##### Q. 프린터\n",
    "\n",
    "일반적인 프린터는 인쇄 요청이 들어온 순서대로 인쇄합니다. 그렇기 때문에 중요한 문서가 나중에 인쇄될 수 있습니다. 이런 문제를 보완하기 위해 중요도가 높은 문서를 먼저 인쇄하는 프린터를 개발했습니다. 이 새롭게 개발한 프린터는 아래와 같은 방식으로 인쇄 작업을 수행합니다.\n",
    "\n",
    "1. 인쇄 대기목록의 가장 앞에 있는 문서(J)를 대기목록에서 꺼냅니다.\n",
    "2. 나머지 인쇄 대기목록에서 J보다 중요도가 높은 문서가 한 개라도 존재하면 J를 대기목록의 가장 마지막에 넣습니다.\n",
    "3. 그렇지 않으면 J를 인쇄합니다.\n",
    "예를 들어, 4개의 문서(A, B, C, D)가 순서대로 인쇄 대기목록에 있고 중요도가 2 1 3 2 라면 C D A B 순으로 인쇄하게 됩니다.\n",
    "\n",
    "내가 인쇄를 요청한 문서가 몇 번째로 인쇄되는지 알고 싶습니다. 위의 예에서 C는 1번째로, A는 3번째로 인쇄됩니다.\n",
    "\n",
    "현재 대기목록에 있는 문서의 중요도가 순서대로 담긴 배열 priorities와 내가 인쇄를 요청한 문서가 현재 대기목록의 어떤 위치에 있는지를 알려주는 location이 매개변수로 주어질 때, 내가 인쇄를 요청한 문서가 몇 번째로 인쇄되는지 return 하도록 solution 함수를 작성해주세요."
   ]
  },
  {
   "cell_type": "code",
   "execution_count": 1,
   "metadata": {},
   "outputs": [],
   "source": [
    "from collections import deque\n",
    "\n",
    "def solution(priorities, location):\n",
    "    \n",
    "    answer = 0\n",
    "    \n",
    "    base_list = deque(priorities)\n",
    "    wait_list = deque()\n",
    "    \n",
    "    for i in range(len(priorities)):\n",
    "        if i == location:\n",
    "            wait_list.append(1)\n",
    "        else:\n",
    "            wait_list.append(0)\n",
    "            \n",
    "    \n",
    "    while len(base_list) != 0:\n",
    "        if base_list[0] == max(base_list):\n",
    "            base_list.popleft()\n",
    "            remove_point = wait_list.popleft()\n",
    "            answer += 1\n",
    "            if remove_point == 1:\n",
    "                break\n",
    "        else:\n",
    "            back_again = base_list.popleft()\n",
    "            base_list.append(back_again)\n",
    "            back_again_point = wait_list.popleft()\n",
    "            wait_list.append(back_again_point)\n",
    "                \n",
    "    return answer"
   ]
  },
  {
   "attachments": {},
   "cell_type": "markdown",
   "metadata": {},
   "source": [
    "##### Q. [1차] 뉴스 클러스터링\n",
    "\n",
    "유사한 기사를 묶는 기준을 정하기 위해서 논문과 자료를 조사하던 튜브는 \"자카드 유사도\"라는 방법을 찾아냈다.\n",
    "\n",
    "자카드 유사도는 집합 간의 유사도를 검사하는 여러 방법 중의 하나로 알려져 있다. 두 집합 A, B 사이의 자카드 유사도 J(A, B)는 두 집합의 교집합 크기를 두 집합의 합집합 크기로 나눈 값으로 정의된다.\n",
    "\n",
    "예를 들어 집합 A = {1, 2, 3}, 집합 B = {2, 3, 4}라고 할 때, 교집합 A ∩ B = {2, 3}, 합집합 A ∪ B = {1, 2, 3, 4}이 되므로, 집합 A, B 사이의 자카드 유사도 J(A, B) = 2/4 = 0.5가 된다. 집합 A와 집합 B가 모두 공집합일 경우에는 나눗셈이 정의되지 않으니 따로 J(A, B) = 1로 정의한다.\n",
    "\n",
    "자카드 유사도는 원소의 중복을 허용하는 다중집합에 대해서 확장할 수 있다. 다중집합 A는 원소 \"1\"을 3개 가지고 있고, 다중집합 B는 원소 \"1\"을 5개 가지고 있다고 하자. 이 다중집합의 교집합 A ∩ B는 원소 \"1\"을 min(3, 5)인 3개, 합집합 A ∪ B는 원소 \"1\"을 max(3, 5)인 5개 가지게 된다. 다중집합 A = {1, 1, 2, 2, 3}, 다중집합 B = {1, 2, 2, 4, 5}라고 하면, 교집합 A ∩ B = {1, 2, 2}, 합집합 A ∪ B = {1, 1, 2, 2, 3, 4, 5}가 되므로, 자카드 유사도 J(A, B) = 3/7, 약 0.42가 된다.\n",
    "\n",
    "이를 이용하여 문자열 사이의 유사도를 계산하는데 이용할 수 있다. 문자열 \"FRANCE\"와 \"FRENCH\"가 주어졌을 때, 이를 두 글자씩 끊어서 다중집합을 만들 수 있다. 각각 {FR, RA, AN, NC, CE}, {FR, RE, EN, NC, CH}가 되며, 교집합은 {FR, NC}, 합집합은 {FR, RA, AN, NC, CE, RE, EN, CH}가 되므로, 두 문자열 사이의 자카드 유사도 J(\"FRANCE\", \"FRENCH\") = 2/8 = 0.25가 된다."
   ]
  },
  {
   "cell_type": "code",
   "execution_count": 2,
   "metadata": {},
   "outputs": [],
   "source": [
    "import re\n",
    "import math\n",
    "from collections import defaultdict\n",
    "\n",
    "def solution(str1, str2):\n",
    "    answer = 0\n",
    "    str1 = str1.lower()\n",
    "    str2 = str2.lower()\n",
    "    \n",
    "    dict_1 = defaultdict(int)\n",
    "    dict_2 = defaultdict(int)\n",
    "    cnt_1 = 0\n",
    "    cnt_2 = 0\n",
    "\n",
    "    for i in range(0,len(str1)-1):\n",
    "        tmp_str = str1[i] + str1[i+1]\n",
    "        if re.sub(r'[a-z]','', tmp_str) == '':\n",
    "            dict_1[tmp_str] += 1\n",
    "            cnt_1 += 1\n",
    "            \n",
    "    for i in range(0,len(str2)-1):\n",
    "        tmp_str = str2[i] + str2[i+1]\n",
    "        if re.sub(r'[a-z]','', tmp_str) == '':\n",
    "            dict_2[tmp_str] += 1\n",
    "            cnt_2 += 1\n",
    "    \n",
    "    min_num = 0\n",
    "    many_key = []\n",
    "    for i in dict_1:\n",
    "        for j in dict_2:\n",
    "            if i == j:\n",
    "                min_num += min(dict_1[i], dict_2[i])\n",
    "    \n",
    "    final_max_num = cnt_1 + cnt_2 - min_num\n",
    "    \n",
    "    try:\n",
    "        return math.floor(min_num/final_max_num * 65536)\n",
    "    except:\n",
    "        return 65536"
   ]
  }
 ],
 "metadata": {
  "kernelspec": {
   "display_name": "base",
   "language": "python",
   "name": "python3"
  },
  "language_info": {
   "codemirror_mode": {
    "name": "ipython",
    "version": 3
   },
   "file_extension": ".py",
   "mimetype": "text/x-python",
   "name": "python",
   "nbconvert_exporter": "python",
   "pygments_lexer": "ipython3",
   "version": "3.7.9"
  },
  "orig_nbformat": 4,
  "vscode": {
   "interpreter": {
    "hash": "af40cdd1006690f4cf995187c855cf85ebfd55e0c8699f83ae7c9965d6b310a1"
   }
  }
 },
 "nbformat": 4,
 "nbformat_minor": 2
}
