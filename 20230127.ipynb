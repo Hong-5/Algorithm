{
 "cells": [
  {
   "attachments": {},
   "cell_type": "markdown",
   "metadata": {},
   "source": [
    "##### Q. 귤 고르기\n",
    "\n",
    "경화는 과수원에서 귤을 수확했습니다. 경화는 수확한 귤 중 'k'개를 골라 상자 하나에 담아 판매하려고 합니다. 그런데 수확한 귤의 크기가 일정하지 않아 보기에 좋지 않다고 생각한 경화는 귤을 크기별로 분류했을 때 서로 다른 종류의 수를 최소화하고 싶습니다.\n",
    "\n",
    "예를 들어, 경화가 수확한 귤 8개의 크기가 [1, 3, 2, 5, 4, 5, 2, 3] 이라고 합시다. 경화가 귤 6개를 판매하고 싶다면, 크기가 1, 4인 귤을 제외한 여섯 개의 귤을 상자에 담으면, 귤의 크기의 종류가 2, 3, 5로 총 3가지가 되며 이때가 서로 다른 종류가 최소일 때입니다.\n",
    "\n",
    "경화가 한 상자에 담으려는 귤의 개수 k와 귤의 크기를 담은 배열 tangerine이 매개변수로 주어집니다. 경화가 귤 k개를 고를 때 크기가 서로 다른 종류의 수의 최솟값을 return 하도록 solution 함수를 작성해주세요."
   ]
  },
  {
   "cell_type": "code",
   "execution_count": null,
   "metadata": {},
   "outputs": [],
   "source": [
    "from collections import defaultdict, deque\n",
    "\n",
    "def solution(k, tangerine):\n",
    "    tangerine_dict = defaultdict(int)\n",
    "    \n",
    "    remove_num = len(tangerine) - k\n",
    "    remove_ten = deque()\n",
    "    \n",
    "    for i in tangerine:\n",
    "        tangerine_dict[i] += 1\n",
    "    \n",
    "    \n",
    "    a = sorted(tangerine_dict.items(), key=lambda x: x[1])\n",
    "    \n",
    "    for i in a:\n",
    "        remove_ten.append(i[1])\n",
    "    \n",
    "    while remove_num != 0:\n",
    "        remove_ten[0] = remove_ten[0] - 1\n",
    "        remove_num -= 1\n",
    "        if remove_ten[0] == 0:\n",
    "            remove_ten.popleft()\n",
    "        else:\n",
    "            pass\n",
    "    \n",
    "    \n",
    "    return len(remove_ten)"
   ]
  },
  {
   "attachments": {},
   "cell_type": "markdown",
   "metadata": {},
   "source": [
    "##### Q. 전화번호 목록\n",
    "\n",
    "전화번호부에 적힌 전화번호 중, 한 번호가 다른 번호의 접두어인 경우가 있는지 확인하려 합니다.\n",
    "전화번호가 다음과 같을 경우, 구조대 전화번호는 영석이의 전화번호의 접두사입니다.\n",
    "\n",
    "구조대 : 119\n",
    "박준영 : 97 674 223\n",
    "지영석 : 11 9552 4421\n",
    "전화번호부에 적힌 전화번호를 담은 배열 phone_book 이 solution 함수의 매개변수로 주어질 때, 어떤 번호가 다른 번호의 접두어인 경우가 있으면 false를 그렇지 않으면 true를 return 하도록 solution 함수를 작성해주세요."
   ]
  },
  {
   "cell_type": "code",
   "execution_count": null,
   "metadata": {},
   "outputs": [],
   "source": [
    "from collections import defaultdict, deque\n",
    "\n",
    "def solution(phone_book):\n",
    "    answer = True\n",
    "    each_len_dict = defaultdict()\n",
    "\n",
    "    for i in phone_book:\n",
    "        each_len_dict[i] = len(i)\n",
    "    \n",
    "    each_len_dict = deque(sorted(each_len_dict.items(), key = lambda item : item[1]))\n",
    "    \n",
    "    tmp_list = each_len_dict.copy()\n",
    "    \n",
    "    for i in each_len_dict:\n",
    "        compare = i[0]\n",
    "        tmp_list.popleft()\n",
    "        for j in tmp_list:\n",
    "            if compare ==  j[0][:len(compare)]:\n",
    "                answer = False\n",
    "                break\n",
    "    \n",
    "    return answer"
   ]
  },
  {
   "attachments": {},
   "cell_type": "markdown",
   "metadata": {},
   "source": [
    "- 시간복잡도..."
   ]
  }
 ],
 "metadata": {
  "kernelspec": {
   "display_name": "Python 3",
   "language": "python",
   "name": "python3"
  },
  "language_info": {
   "name": "python",
   "version": "3.9.0 (default, Oct 27 2020, 14:15:17) \n[Clang 12.0.0 (clang-1200.0.32.21)]"
  },
  "orig_nbformat": 4,
  "vscode": {
   "interpreter": {
    "hash": "aee8b7b246df8f9039afb4144a1f6fd8d2ca17a180786b69acc140d282b71a49"
   }
  }
 },
 "nbformat": 4,
 "nbformat_minor": 2
}
