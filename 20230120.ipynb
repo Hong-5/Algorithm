{
 "cells": [
  {
   "cell_type": "markdown",
   "metadata": {},
   "source": [
    "# LEVEL 2"
   ]
  },
  {
   "attachments": {},
   "cell_type": "markdown",
   "metadata": {},
   "source": [
    "##### Q. 괄호 회전하기\n",
    "\n",
    "다음 규칙을 지키는 문자열을 올바른 괄호 문자열이라고 정의합니다.\n",
    "\n",
    "(), [], {} 는 모두 올바른 괄호 문자열입니다.\n",
    "만약 A가 올바른 괄호 문자열이라면, (A), [A], {A} 도 올바른 괄호 문자열입니다. 예를 들어, [] 가 올바른 괄호 문자열이므로, ([]) 도 올바른 괄호 문자열입니다.\n",
    "만약 A, B가 올바른 괄호 문자열이라면, AB 도 올바른 괄호 문자열입니다. 예를 들어, {} 와 ([]) 가 올바른 괄호 문자열이므로, {}([]) 도 올바른 괄호 문자열입니다.\n",
    "대괄호, 중괄호, 그리고 소괄호로 이루어진 문자열 s가 매개변수로 주어집니다. 이 s를 왼쪽으로 x (0 ≤ x < (s의 길이)) 칸만큼 회전시켰을 때 s가 올바른 괄호 문자열이 되게 하는 x의 개수를 return 하도록 solution 함수를 완성해주세요.\n",
    "\n"
   ]
  },
  {
   "cell_type": "code",
   "execution_count": 15,
   "metadata": {},
   "outputs": [],
   "source": [
    "def solution(s):\n",
    "    answer = 0\n",
    "\n",
    "    for i in range(len(s)):\n",
    "        tmp_str = s[i:len(s)] + s[0:i]\n",
    "        stack = []\n",
    "        for st in tmp_str:\n",
    "            if len(stack) == 0:\n",
    "                stack.append(st)\n",
    "            else:\n",
    "                if stack[-1] == '{' and st == '}':\n",
    "                    stack.pop()\n",
    "                elif stack[-1] == '[' and st == ']':\n",
    "                    stack.pop()\n",
    "                elif stack[-1] == '(' and st == ')':\n",
    "                    stack.pop()\n",
    "                else:\n",
    "                    stack.append(st)\n",
    "        if len(stack) == 0:\n",
    "            answer += 1\n",
    "    \n",
    "    return answer\n",
    "\n"
   ]
  },
  {
   "attachments": {},
   "cell_type": "markdown",
   "metadata": {},
   "source": [
    "##### Q. 위장\n",
    "\n",
    "문제 설명\n",
    "스파이들은 매일 다른 옷을 조합하여 입어 자신을 위장합니다.\n",
    "\n",
    "예를 들어 스파이가 가진 옷이 아래와 같고 오늘 스파이가 동그란 안경, 긴 코트, 파란색 티셔츠를 입었다면 다음날은 청바지를 추가로 입거나 동그란 안경 대신 검정 선글라스를 착용하거나 해야 합니다.\n",
    "\n",
    "종류\t이름\n",
    "얼굴\t동그란 안경, 검정 선글라스\n",
    "상의\t파란색 티셔츠\n",
    "하의\t청바지\n",
    "겉옷\t긴 코트\n",
    "스파이가 가진 의상들이 담긴 2차원 배열 clothes가 주어질 때 서로 다른 옷의 조합의 수를 return 하도록 solution 함수를 작성해주세요.\n",
    "\n",
    "제한사항\n",
    "clothes의 각 행은 [의상의 이름, 의상의 종류]로 이루어져 있습니다.\n",
    "스파이가 가진 의상의 수는 1개 이상 30개 이하입니다.\n",
    "같은 이름을 가진 의상은 존재하지 않습니다.\n",
    "clothes의 모든 원소는 문자열로 이루어져 있습니다.\n",
    "모든 문자열의 길이는 1 이상 20 이하인 자연수이고 알파벳 소문자 또는 '_' 로만 이루어져 있습니다.\n",
    "스파이는 하루에 최소 한 개의 의상은 입습니다.\n"
   ]
  },
  {
   "cell_type": "code",
   "execution_count": 16,
   "metadata": {},
   "outputs": [],
   "source": [
    "answer = 0\n",
    "\n",
    "for i in range(len(s)):\n",
    "    tmp_str = s[i:len(s)] + s[0:i]\n",
    "    stack = []\n",
    "    for st in tmp_str:\n",
    "        if len(stack) == 0:\n",
    "            stack.append(st)\n",
    "        else:\n",
    "            if stack[-1] == '{' and st == '}':\n",
    "                stack.pop()\n",
    "            elif stack[-1] == '[' and st == ']':\n",
    "                stack.pop()\n",
    "            elif stack[-1] == '(' and st == ')':\n",
    "                stack.pop()\n",
    "            else:\n",
    "                stack.append(st)\n",
    "    if len(stack) == 0:\n",
    "        answer += 1"
   ]
  },
  {
   "cell_type": "code",
   "execution_count": 25,
   "metadata": {},
   "outputs": [],
   "source": [
    "from collections import defaultdict\n",
    "\n",
    "def solution(clothes):\n",
    "\n",
    "    cloth_dict = defaultdict(list)\n",
    "\n",
    "    for cloth in clothes:\n",
    "        cloth_dict[cloth[1]].append(cloth[0])\n",
    "\n",
    "\n",
    "    answer = 1\n",
    "    for i in cloth_dict:\n",
    "        answer *= (len(cloth_dict[i]) + 1)\n",
    "        \n",
    "    \n",
    "    return answer - 1\n"
   ]
  },
  {
   "cell_type": "markdown",
   "metadata": {},
   "source": []
  }
 ],
 "metadata": {
  "kernelspec": {
   "display_name": "Python 3",
   "language": "python",
   "name": "python3"
  },
  "language_info": {
   "codemirror_mode": {
    "name": "ipython",
    "version": 3
   },
   "file_extension": ".py",
   "mimetype": "text/x-python",
   "name": "python",
   "nbconvert_exporter": "python",
   "pygments_lexer": "ipython3",
   "version": "3.9.0"
  },
  "orig_nbformat": 4,
  "vscode": {
   "interpreter": {
    "hash": "aee8b7b246df8f9039afb4144a1f6fd8d2ca17a180786b69acc140d282b71a49"
   }
  }
 },
 "nbformat": 4,
 "nbformat_minor": 2
}
