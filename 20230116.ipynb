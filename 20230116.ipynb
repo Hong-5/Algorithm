{
 "cells": [
  {
   "attachments": {},
   "cell_type": "markdown",
   "metadata": {},
   "source": [
    "# LEVEL 2"
   ]
  },
  {
   "attachments": {},
   "cell_type": "markdown",
   "metadata": {},
   "source": [
    "##### Q. 영어 끝말잇기"
   ]
  },
  {
   "attachments": {},
   "cell_type": "markdown",
   "metadata": {},
   "source": [
    "1부터 n까지 번호가 붙어있는 n명의 사람이 영어 끝말잇기를 하고 있습니다. 영어 끝말잇기는 다음과 같은 규칙으로 진행됩니다.\n",
    "\n",
    "1번부터 번호 순서대로 한 사람씩 차례대로 단어를 말합니다.\n",
    "마지막 사람이 단어를 말한 다음에는 다시 1번부터 시작합니다.\n",
    "앞사람이 말한 단어의 마지막 문자로 시작하는 단어를 말해야 합니다.\n",
    "이전에 등장했던 단어는 사용할 수 없습니다.\n",
    "한 글자인 단어는 인정되지 않습니다.\n",
    "다음은 3명이 끝말잇기를 하는 상황을 나타냅니다.\n",
    "\n",
    "tank → kick → know → wheel → land → dream → mother → robot → tank\n",
    "\n",
    "위 끝말잇기는 다음과 같이 진행됩니다.\n",
    "\n",
    "1번 사람이 자신의 첫 번째 차례에 tank를 말합니다.\n",
    "2번 사람이 자신의 첫 번째 차례에 kick을 말합니다.\n",
    "3번 사람이 자신의 첫 번째 차례에 know를 말합니다.\n",
    "1번 사람이 자신의 두 번째 차례에 wheel을 말합니다.\n",
    "(계속 진행)\n",
    "끝말잇기를 계속 진행해 나가다 보면, 3번 사람이 자신의 세 번째 차례에 말한 tank 라는 단어는 이전에 등장했던 단어이므로 탈락하게 됩니다.\n",
    "\n",
    "사람의 수 n과 사람들이 순서대로 말한 단어 words 가 매개변수로 주어질 때, 가장 먼저 탈락하는 사람의 번호와 그 사람이 자신의 몇 번째 차례에 탈락하는지를 구해서 return 하도록 solution 함수를 완성해주세요.\n",
    "\n"
   ]
  },
  {
   "cell_type": "code",
   "execution_count": null,
   "metadata": {},
   "outputs": [],
   "source": [
    "def solution(n, words):\n",
    "    word_stack = []\n",
    "    last_letter = words[0][-1]\n",
    "    cnt = 0\n",
    "    \n",
    "    for word in words:\n",
    "        if len(word) < 2:\n",
    "            break\n",
    "        else:\n",
    "            if cnt == 0:\n",
    "                cnt += 1\n",
    "                word_stack.append(word)\n",
    "                pass\n",
    "            else:\n",
    "                if word in word_stack:\n",
    "                    break\n",
    "                else:\n",
    "                    if word[0] == last_letter:\n",
    "                        last_letter = word[-1]\n",
    "                        word_stack.append(word)\n",
    "                        cnt += 1\n",
    "                    else:\n",
    "                        break\n",
    "    \n",
    "    \n",
    "    num = cnt % n + 1\n",
    "    turn = cnt // n + 1\n",
    "    \n",
    "    if cnt == len(words):\n",
    "        return [0,0]\n",
    "    else:\n",
    "        return [num, turn]"
   ]
  }
 ],
 "metadata": {
  "kernelspec": {
   "display_name": "Python 3",
   "language": "python",
   "name": "python3"
  },
  "language_info": {
   "name": "python",
   "version": "3.9.0 (default, Oct 27 2020, 14:15:17) \n[Clang 12.0.0 (clang-1200.0.32.21)]"
  },
  "orig_nbformat": 4,
  "vscode": {
   "interpreter": {
    "hash": "aee8b7b246df8f9039afb4144a1f6fd8d2ca17a180786b69acc140d282b71a49"
   }
  }
 },
 "nbformat": 4,
 "nbformat_minor": 2
}
