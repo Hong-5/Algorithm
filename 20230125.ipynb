{
 "cells": [
  {
   "attachments": {},
   "cell_type": "markdown",
   "metadata": {},
   "source": [
    "# LEVEL 2"
   ]
  },
  {
   "attachments": {},
   "cell_type": "markdown",
   "metadata": {},
   "source": [
    "##### Q. 정수 삼각형(동적계획법)\n",
    "\n",
    "위와 같은 삼각형의 꼭대기에서 바닥까지 이어지는 경로 중, 거쳐간 숫자의 합이 가장 큰 경우를 찾아보려고 합니다. 아래 칸으로 이동할 때는 대각선 방향으로 한 칸 오른쪽 또는 왼쪽으로만 이동 가능합니다. 예를 들어 3에서는 그 아래칸의 8 또는 1로만 이동이 가능합니다.\n",
    "\n",
    "삼각형의 정보가 담긴 배열 triangle이 매개변수로 주어질 때, 거쳐간 숫자의 최댓값을 return 하도록 solution 함수를 완성하세요."
   ]
  },
  {
   "cell_type": "code",
   "execution_count": 17,
   "metadata": {},
   "outputs": [],
   "source": [
    "def solution(triangle):\n",
    "    answer = 0\n",
    "    \n",
    "    n = len(triangle)\n",
    "    dp = [[0]*i for i in range(1,n+1)]\n",
    "    \n",
    "    dp[0][0] = triangle[0][0]\n",
    "    \n",
    "    \n",
    "    for x in range(1,n):\n",
    "        for y in range(x+1):\n",
    "            if y == 0:\n",
    "                dp[x][y] = triangle[x][y] + dp[x-1][0]\n",
    "            elif y == x:\n",
    "                dp[x][y] = triangle[x][y] + dp[x-1][y-1]\n",
    "            else:\n",
    "                dp[x][y] = triangle[x][y] + max(dp[x-1][y-1], dp[x-1][y])\n",
    "    \n",
    "    \n",
    "    return max(dp[-1])"
   ]
  },
  {
   "attachments": {},
   "cell_type": "markdown",
   "metadata": {},
   "source": [
    "##### Q. 이중우선순위큐\n",
    "\n",
    "이중 우선순위 큐는 다음 연산을 할 수 있는 자료구조를 말합니다.\n",
    "\n",
    "명령어\t수신 탑(높이)\n",
    "I 숫자\t큐에 주어진 숫자를 삽입합니다.\n",
    "D 1\t큐에서 최댓값을 삭제합니다.\n",
    "D -1\t큐에서 최솟값을 삭제합니다.\n",
    "이중 우선순위 큐가 할 연산 operations가 매개변수로 주어질 때, 모든 연산을 처리한 후 큐가 비어있으면 [0,0] 비어있지 않으면 [최댓값, 최솟값]을 return 하도록 solution 함수를 구현해주세요.\n",
    "\n",
    "제한사항\n",
    "operations는 길이가 1 이상 1,000,000 이하인 문자열 배열입니다.\n",
    "operations의 원소는 큐가 수행할 연산을 나타냅니다.\n",
    "원소는 “명령어 데이터” 형식으로 주어집니다.- 최댓값/최솟값을 삭제하는 연산에서 최댓값/최솟값이 둘 이상인 경우, 하나만 삭제합니다.\n",
    "빈 큐에 데이터를 삭제하라는 연산이 주어질 경우, 해당 연산은 무시합니다.\n"
   ]
  },
  {
   "cell_type": "code",
   "execution_count": 24,
   "metadata": {},
   "outputs": [],
   "source": [
    "from collections import deque\n",
    "\n",
    "def solution(operations):\n",
    "    \n",
    "    operations = [i.split(' ') for i in operations]\n",
    "    \n",
    "    \n",
    "    empty_list = deque()\n",
    "\n",
    "    for block in operations:\n",
    "        if len(empty_list) == 0:\n",
    "            if block[0] == \"I\":\n",
    "                empty_list.append(int(block[1]))\n",
    "            else:\n",
    "                pass\n",
    "        else:\n",
    "            if block[0] == \"I\":\n",
    "                empty_list.append(int(block[1]))\n",
    "            elif block[0] == \"D\" and block[1][0] == \"-\":\n",
    "                empty_list.remove(min(empty_list))\n",
    "            else:\n",
    "                empty_list.remove(max(empty_list))\n",
    "\n",
    "    if len(empty_list) == 0:\n",
    "        return [0,0]\n",
    "    else:\n",
    "        return [max(empty_list), min(empty_list)]\n",
    "\n"
   ]
  }
 ],
 "metadata": {
  "kernelspec": {
   "display_name": "base",
   "language": "python",
   "name": "python3"
  },
  "language_info": {
   "codemirror_mode": {
    "name": "ipython",
    "version": 3
   },
   "file_extension": ".py",
   "mimetype": "text/x-python",
   "name": "python",
   "nbconvert_exporter": "python",
   "pygments_lexer": "ipython3",
   "version": "3.7.9"
  },
  "orig_nbformat": 4,
  "vscode": {
   "interpreter": {
    "hash": "af40cdd1006690f4cf995187c855cf85ebfd55e0c8699f83ae7c9965d6b310a1"
   }
  }
 },
 "nbformat": 4,
 "nbformat_minor": 2
}
