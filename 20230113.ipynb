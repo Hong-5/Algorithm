{
 "cells": [
  {
   "attachments": {},
   "cell_type": "markdown",
   "metadata": {},
   "source": [
    "# LEVEL 2"
   ]
  },
  {
   "attachments": {},
   "cell_type": "markdown",
   "metadata": {},
   "source": [
    "##### Q. 최댓값과 최솟값"
   ]
  },
  {
   "cell_type": "code",
   "execution_count": 1,
   "metadata": {},
   "outputs": [],
   "source": [
    "def solution(s):\n",
    "    answer = ''\n",
    "    tmp_list = []\n",
    "    for i in s.split(' '):\n",
    "        tmp_list.append(int(i))\n",
    "    \n",
    "    return str(min(tmp_list)) + ' ' +str(max(tmp_list))"
   ]
  },
  {
   "attachments": {},
   "cell_type": "markdown",
   "metadata": {},
   "source": [
    "##### Q. JadenCase 문자열 만들기"
   ]
  },
  {
   "cell_type": "code",
   "execution_count": 7,
   "metadata": {},
   "outputs": [],
   "source": [
    "def solution(s):\n",
    "    answer = ''\n",
    "    for i in s.split(' '):\n",
    "        if len(i) >= 2:\n",
    "            if i.isnumeric():\n",
    "                new_string = i[0] + i[1:].lower()\n",
    "            else:\n",
    "                new_string = i[0].upper() + i[1:].lower()\n",
    "            answer += new_string\n",
    "            answer += ' '\n",
    "        elif len(i) == 1:\n",
    "            new_string = i[0].upper()\n",
    "            answer += new_string\n",
    "            answer += ' '\n",
    "        else:\n",
    "            answer += ' '\n",
    "    return answer[:-1]"
   ]
  },
  {
   "attachments": {},
   "cell_type": "markdown",
   "metadata": {},
   "source": [
    "##### Q. 최솟값 만들기"
   ]
  },
  {
   "cell_type": "code",
   "execution_count": null,
   "metadata": {},
   "outputs": [],
   "source": [
    "def solution(A,B):\n",
    "    answer = 0\n",
    "    A = sorted(A)\n",
    "    B = sorted(B, reverse=True)\n",
    "    \n",
    "    for i in range(len(A)):\n",
    "        answer += A[i] * B[i]\n",
    "\n",
    "    return answer"
   ]
  },
  {
   "attachments": {},
   "cell_type": "markdown",
   "metadata": {},
   "source": [
    "##### Q. 올바른 괄호"
   ]
  },
  {
   "cell_type": "code",
   "execution_count": null,
   "metadata": {},
   "outputs": [],
   "source": [
    "def solution(s):\n",
    "\n",
    "    stack = [s[0]]\n",
    "    if len(s) >= 2:\n",
    "        for i in s[1:]:\n",
    "            if i == ')':\n",
    "                if len(stack) >= 1:\n",
    "                    if stack[-1]== '(':\n",
    "                        stack.pop()\n",
    "                    else:\n",
    "                        stack.append(i)\n",
    "            else:\n",
    "                stack.append(i)\n",
    "        if len(stack) == 0:\n",
    "            return True\n",
    "        else:\n",
    "            return False\n",
    "\n",
    "    else:\n",
    "        return False\n"
   ]
  },
  {
   "attachments": {},
   "cell_type": "markdown",
   "metadata": {},
   "source": [
    "##### Q. 이진 변환 반복하기"
   ]
  },
  {
   "cell_type": "code",
   "execution_count": null,
   "metadata": {},
   "outputs": [],
   "source": [
    "def solution(s):\n",
    "    cnt_0 = 0\n",
    "    cnt = 0\n",
    "    while len(s) != 1:\n",
    "        \n",
    "        cnt_0 += s.count('0')\n",
    "        s = s.replace('0', '')\n",
    "        s = bin(len(s))[2:]\n",
    "        cnt += 1\n",
    "        \n",
    "    return [cnt, cnt_0]"
   ]
  },
  {
   "attachments": {},
   "cell_type": "markdown",
   "metadata": {},
   "source": [
    "##### Q. 숫자의 표현"
   ]
  },
  {
   "cell_type": "code",
   "execution_count": null,
   "metadata": {},
   "outputs": [],
   "source": [
    "def solution(n):\n",
    "    answer = 0\n",
    "    \n",
    "    for i in range(1,int(n/2)+1):\n",
    "        first = i\n",
    "        plus_first = 0\n",
    "        while True:\n",
    "            plus_first += first\n",
    "            first += 1\n",
    "            if plus_first >= n:\n",
    "                break\n",
    "        \n",
    "        if plus_first == n:\n",
    "            answer += 1\n",
    "            \n",
    "    return answer + 1"
   ]
  },
  {
   "attachments": {},
   "cell_type": "markdown",
   "metadata": {},
   "source": [
    "##### Q. 피보나치 수"
   ]
  },
  {
   "cell_type": "code",
   "execution_count": null,
   "metadata": {},
   "outputs": [],
   "source": [
    "def solution(n):\n",
    "    answer = 0\n",
    "    num_list = [0, 1]\n",
    "    while len(num_list) != n+1:\n",
    "        num_list.append(sum(num_list[-2:]))\n",
    "    \n",
    "\n",
    "    return num_list[-1] % 1234567"
   ]
  },
  {
   "attachments": {},
   "cell_type": "markdown",
   "metadata": {},
   "source": [
    "##### Q. 다음 큰 숫자"
   ]
  },
  {
   "cell_type": "code",
   "execution_count": null,
   "metadata": {},
   "outputs": [],
   "source": [
    "def solution(n):\n",
    "    answer = 0\n",
    "    n_1 = int(bin(n)[2:].count('1'))\n",
    "    num = n+1\n",
    "    next_1 = 0\n",
    "    while next_1 != n_1:\n",
    "        next_1 = int(bin(num)[2:].count('1'))\n",
    "        if next_1 == n_1:\n",
    "            breakaa\n",
    "        else:\n",
    "            num += 1\n",
    "\n",
    "    return num"
   ]
  },
  {
   "attachments": {},
   "cell_type": "markdown",
   "metadata": {},
   "source": [
    "##### Q. 짝지어 제거하기"
   ]
  },
  {
   "cell_type": "code",
   "execution_count": null,
   "metadata": {},
   "outputs": [],
   "source": [
    "def solution(s):\n",
    "\n",
    "    alpha_stack = []\n",
    "    for i in s:\n",
    "        if len(alpha_stack) == 0:\n",
    "            alpha_stack.append(i)\n",
    "        else:\n",
    "            if alpha_stack[-1] == i:\n",
    "                alpha_stack.pop()\n",
    "            else:\n",
    "                alpha_stack.append(i)\n",
    "    \n",
    "    if len(alpha_stack) == 0:\n",
    "        return 1\n",
    "    else:\n",
    "        return 0\n"
   ]
  },
  {
   "attachments": {},
   "cell_type": "markdown",
   "metadata": {},
   "source": [
    "##### Q. 카펫"
   ]
  },
  {
   "cell_type": "code",
   "execution_count": null,
   "metadata": {},
   "outputs": [],
   "source": [
    "def solution(brown, yellow):\n",
    "    total_count = brown + yellow\n",
    "    \n",
    "    for i in range(3, int(total_count/2)+1):\n",
    "        if total_count % i == 0:\n",
    "            height = i\n",
    "            width = int(total_count/height)\n",
    "            cal_yellow = (height-2) * (width-2)\n",
    "            if cal_yellow == yellow:\n",
    "                break    \n",
    "    \n",
    "    return [width, height]"
   ]
  }
 ],
 "metadata": {
  "kernelspec": {
   "display_name": "Python 3",
   "language": "python",
   "name": "python3"
  },
  "language_info": {
   "codemirror_mode": {
    "name": "ipython",
    "version": 3
   },
   "file_extension": ".py",
   "mimetype": "text/x-python",
   "name": "python",
   "nbconvert_exporter": "python",
   "pygments_lexer": "ipython3",
   "version": "3.9.0"
  },
  "orig_nbformat": 4,
  "vscode": {
   "interpreter": {
    "hash": "aee8b7b246df8f9039afb4144a1f6fd8d2ca17a180786b69acc140d282b71a49"
   }
  }
 },
 "nbformat": 4,
 "nbformat_minor": 2
}
