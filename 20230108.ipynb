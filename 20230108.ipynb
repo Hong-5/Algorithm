{
 "cells": [
  {
   "cell_type": "markdown",
   "metadata": {},
   "source": [
    "# LEVEL 1"
   ]
  },
  {
   "cell_type": "markdown",
   "metadata": {},
   "source": [
    "##### Q. 명예의 전당 (1)"
   ]
  },
  {
   "cell_type": "markdown",
   "metadata": {},
   "source": [
    "\"명예의 전당\"이라는 TV 프로그램에서는 매일 1명의 가수가 노래를 부르고, 시청자들의 문자 투표수로 가수에게 점수를 부여합니다. 매일 출연한 가수의 점수가 지금까지 출연 가수들의 점수 중 상위 k번째 이내이면 해당 가수의 점수를 명예의 전당이라는 목록에 올려 기념합니다. 즉 프로그램 시작 이후 초기에 k일까지는 모든 출연 가수의 점수가 명예의 전당에 오르게 됩니다. k일 다음부터는 출연 가수의 점수가 기존의 명예의 전당 목록의 k번째 순위의 가수 점수보다 더 높으면, 출연 가수의 점수가 명예의 전당에 오르게 되고 기존의 k번째 순위의 점수는 명예의 전당에서 내려오게 됩니다.\n",
    "\n",
    "이 프로그램에서는 매일 \"명예의 전당\"의 최하위 점수를 발표합니다. 예를 들어, k = 3이고, 7일 동안 진행된 가수의 점수가 [10, 100, 20, 150, 1, 100, 200]이라면, 명예의 전당에서 발표된 점수는 아래의 그림과 같이 [10, 10, 10, 20, 20, 100, 100]입니다.\n",
    "\n",
    "명예의 전당 목록의 점수의 개수 k, 1일부터 마지막 날까지 출연한 가수들의 점수인 score가 주어졌을 때, 매일 발표된 명예의 전당의 최하위 점수를 return하는 solution 함수를 완성해주세요."
   ]
  },
  {
   "cell_type": "code",
   "execution_count": null,
   "metadata": {},
   "outputs": [],
   "source": [
    "def solution(k, score):\n",
    "    answer = []\n",
    "    high_score = []\n",
    "    \n",
    "    for i in score:\n",
    "        if len(high_score) < k:\n",
    "            high_score.append(i)\n",
    "            high_score = sorted(high_score, reverse= True)\n",
    "            min_high_score = high_score[-1]\n",
    "            answer.append(min_high_score)\n",
    "        else:\n",
    "            high_score.append(i)\n",
    "            high_score = sorted(high_score, reverse = True)[:k]\n",
    "            min_high_score = high_score[-1]\n",
    "            answer.append(min_high_score)\n",
    "    \n",
    "    return answer"
   ]
  },
  {
   "cell_type": "markdown",
   "metadata": {},
   "source": [
    "##### Q. [카카오 인턴] 키패드 누르기\n",
    "\n",
    "이 전화 키패드에서 왼손과 오른손의 엄지손가락만을 이용해서 숫자만을 입력하려고 합니다.\n",
    "맨 처음 왼손 엄지손가락은 * 키패드에 오른손 엄지손가락은 # 키패드 위치에서 시작하며, 엄지손가락을 사용하는 규칙은 다음과 같습니다.\n",
    "\n",
    "엄지손가락은 상하좌우 4가지 방향으로만 이동할 수 있으며 키패드 이동 한 칸은 거리로 1에 해당합니다.\n",
    "왼쪽 열의 3개의 숫자 1, 4, 7을 입력할 때는 왼손 엄지손가락을 사용합니다.\n",
    "오른쪽 열의 3개의 숫자 3, 6, 9를 입력할 때는 오른손 엄지손가락을 사용합니다.\n",
    "가운데 열의 4개의 숫자 2, 5, 8, 0을 입력할 때는 두 엄지손가락의 현재 키패드의 위치에서 더 가까운 엄지손가락을 사용합니다.\n",
    "4-1. 만약 두 엄지손가락의 거리가 같다면, 오른손잡이는 오른손 엄지손가락, 왼손잡이는 왼손 엄지손가락을 사용합니다.\n",
    "순서대로 누를 번호가 담긴 배열 numbers, 왼손잡이인지 오른손잡이인 지를 나타내는 문자열 hand가 매개변수로 주어질 때, 각 번호를 누른 엄지손가락이 왼손인 지 오른손인 지를 나타내는 연속된 문자열 형태로 return 하도록 solution 함수를 완성해주세요."
   ]
  },
  {
   "cell_type": "code",
   "execution_count": null,
   "metadata": {},
   "outputs": [],
   "source": [
    "def solution(numbers, hand):\n",
    "    answer = ''\n",
    "    left_loc = (3,0)\n",
    "    right_loc = (3,2)\n",
    "    \n",
    "    for index, value in enumerate(numbers):\n",
    "        if value == 0:\n",
    "            numbers[index] = 11\n",
    "    \n",
    "    for i in numbers:\n",
    "        ## 왼쪽 키패드\n",
    "        if i % 3 == 1:\n",
    "            answer += \"L\"\n",
    "            a, b = divmod(i+2, 3)\n",
    "            left_loc = (a-1, b)\n",
    "        ## 오른쪽 키패드\n",
    "        elif i % 3 == 0:\n",
    "            answer += \"R\"\n",
    "            a, b = divmod(i+2, 3)\n",
    "            right_loc = (a-1, b)\n",
    "        \n",
    "        ## 가운데 키패드\n",
    "        else:\n",
    "            a, b = divmod(i+2, 3)\n",
    "            middle_loc = (a-1, b)\n",
    "            \n",
    "            if abs(left_loc[0] - middle_loc[0]) + abs(left_loc[1] - middle_loc[1]) == abs(right_loc[0] - middle_loc[0]) + abs(right_loc[1] - middle_loc[1]):\n",
    "                if hand == \"right\":\n",
    "                    answer += \"R\"\n",
    "                    right_loc = middle_loc\n",
    "                else:\n",
    "                    answer += \"L\"\n",
    "                    left_loc = middle_loc\n",
    "            elif abs(left_loc[0] - middle_loc[0]) + abs(left_loc[1] - middle_loc[1]) < abs(right_loc[0] - middle_loc[0]) + abs(right_loc[1] - middle_loc[1]):\n",
    "                answer += \"L\"\n",
    "                left_loc = middle_loc\n",
    "            else:\n",
    "                answer += \"R\"\n",
    "                right_loc = middle_loc\n",
    "                \n",
    "        print(\"눌러야되는것 :\",i,\"위치:\", (a-1, b))   \n",
    "        print(\"왼손\", left_loc)\n",
    "        print(\"오른손\", right_loc)\n",
    "        print(answer[-1])\n",
    "        print('-'*10)\n",
    "    return answer\n"
   ]
  },
  {
   "cell_type": "markdown",
   "metadata": {},
   "source": [
    "Q. 숫자 짝꿍\n",
    "\n",
    "두 정수 X, Y의 임의의 자리에서 공통으로 나타나는 정수 k(0 ≤ k ≤ 9)들을 이용하여 만들 수 있는 가장 큰 정수를 두 수의 짝꿍이라 합니다(단, 공통으로 나타나는 정수 중 서로 짝지을 수 있는 숫자만 사용합니다). X, Y의 짝꿍이 존재하지 않으면, 짝꿍은 -1입니다. X, Y의 짝꿍이 0으로만 구성되어 있다면, 짝꿍은 0입니다.\n",
    "\n",
    "예를 들어, X = 3403이고 Y = 13203이라면, X와 Y의 짝꿍은 X와 Y에서 공통으로 나타나는 3, 0, 3으로 만들 수 있는 가장 큰 정수인 330입니다. 다른 예시로 X = 5525이고 Y = 1255이면 X와 Y의 짝꿍은 X와 Y에서 공통으로 나타나는 2, 5, 5로 만들 수 있는 가장 큰 정수인 552입니다(X에는 5가 3개, Y에는 5가 2개 나타나므로 남는 5 한 개는 짝 지을 수 없습니다.)\n",
    "두 정수 X, Y가 주어졌을 때, X, Y의 짝꿍을 return하는 solution 함수를 완성해주세요."
   ]
  },
  {
   "cell_type": "code",
   "execution_count": null,
   "metadata": {},
   "outputs": [],
   "source": [
    "from collections import defaultdict\n",
    "\n",
    "def solution(X, Y):\n",
    "    num_list = []\n",
    "    answer = ''\n",
    "    num_dict_X = defaultdict(int)\n",
    "    num_dict_Y = defaultdict(int)\n",
    "    \n",
    "    for num in X:\n",
    "        num_dict_X[num] += 1\n",
    "    \n",
    "    for num in Y:\n",
    "        num_dict_Y[num] += 1\n",
    "    \n",
    "    for i in ['0', '1', '2', '3', '4', '5', '6', '7', '8', '9']:\n",
    "        if (num_dict_X[i] > 0) and (num_dict_Y[i] > 0):\n",
    "            while (num_dict_X[i] != 0) and (num_dict_Y[i] != 0):\n",
    "                num_list.append(i)\n",
    "                num_dict_X[i] -= 1\n",
    "                num_dict_Y[i] -= 1\n",
    "    \n",
    "    num_list = sorted(num_list, reverse=True)\n",
    "    \n",
    "    if len(num_list) == 0:\n",
    "        return \"-1\"\n",
    "    elif list(set(num_list)) == ['0']:\n",
    "        return \"0\"\n",
    "    else:\n",
    "        return ''.join(num_list)\n",
    "    "
   ]
  }
 ],
 "metadata": {
  "language_info": {
   "name": "python"
  },
  "orig_nbformat": 4
 },
 "nbformat": 4,
 "nbformat_minor": 2
}
